{
 "cells": [
  {
   "cell_type": "code",
   "execution_count": 2,
   "metadata": {},
   "outputs": [],
   "source": [
    "# import all tools needed\n",
    "from bs4 import BeautifulSoup\n",
    "import requests\n",
    "import csv\n",
    "import re\n",
    "import pandas as pd"
   ]
  },
  {
   "cell_type": "markdown",
   "metadata": {},
   "source": [
    "# Notes\n",
    "\n",
    "**Wat wil ik doen?**  \n",
    "Verzamel de contactinformatie voor elk van de 12 provincies in Nederland. De informatie staat op pagina's zoals deze: https://almanak.overheid.nl/14557/Provincie_Drenthe. Een overzicht van alle 12 pagina's staat hier: https://almanak.overheid.nl/Provincies/. \n",
    "\n",
    "  \n",
    "**Hoe ga ik dit doen?**\n",
    "1. Verzamel de 12 links naar provincie paginas\n",
    "2. Voor elke pagina:\n",
    "    - vraag de pagina op\n",
    "    - maak een soepje\n",
    "    - selecteer de benodigde informatie:\n",
    "        - provincienaam\n",
    "        - bezoekadres\n",
    "        - postadres\n",
    "        - telefoon\n",
    "        - fax\n",
    "        - website\n",
    "        - email\n",
    "    - verzamel de informatie in een variabele\n",
    "3. Als dit werkt, dan maak ik een leeg CSV-bestand\n",
    "4. Schrijf de informatie per pagina naar dit CSV-bestand\n",
    "5. Scraper draaien, CSV bekijken. Klaar! :)"
   ]
  },
  {
   "cell_type": "markdown",
   "metadata": {},
   "source": [
    "## 1. Verzamel de 12 links naar de provincie paginas"
   ]
  },
  {
   "cell_type": "code",
   "execution_count": 3,
   "metadata": {},
   "outputs": [],
   "source": [
    "# verzamelen van de links van de overzichts pagina; stap 1 een request om de pagina op te vragen\n",
    "r = requests.get('https://almanak.overheid.nl/Provincies/')"
   ]
  },
  {
   "cell_type": "code",
   "execution_count": 4,
   "metadata": {},
   "outputs": [
    {
     "data": {
      "text/plain": [
       "<Response [200]>"
      ]
     },
     "execution_count": 4,
     "metadata": {},
     "output_type": "execute_result"
    }
   ],
   "source": [
    "# als het gelukt is, dan is de status_code of response 200\n",
    "r"
   ]
  },
  {
   "cell_type": "code",
   "execution_count": 5,
   "metadata": {},
   "outputs": [],
   "source": [
    "# laat BeautifulSoup de HTML verwerken, zodat we die kunnen bevragen. Andersgezegd: maak een soepje\n",
    "soup = BeautifulSoup(r.content, 'html.parser')"
   ]
  },
  {
   "cell_type": "code",
   "execution_count": 6,
   "metadata": {},
   "outputs": [
    {
     "data": {
      "text/plain": [
       "<!DOCTYPE html>\n",
       "\n",
       "<html lang=\"nl\">\n",
       "<head>\n",
       "<title>Contactgegevens Provincies | Overheid.nl</title>\n",
       "<link href=\"/static/onl/css/generic.css\" rel=\"stylesheet\" title=\"default\"/>\n",
       "<link href=\"/static/onl/images/favicon.ico\" rel=\"shortcut icon\" type=\"image/vnd.microsoft.icon\"/>\n",
       "<meta charset=\"utf-8\"/>\n",
       "<meta content=\"IE=edge\" http-equiv=\"X-UA-Compatible\"/>\n",
       "<meta content=\"width=device-width,initial-scale=1\" name=\"viewport\"/>\n",
       "<meta content=\"https://almanak.overheid.nl/Provincies\" name=\"DCTERMS.identifier\" scheme=\"XSD.anyURI\"/>\n",
       "<meta content=\"Contactgegevens Provincies | Overheid.nl\" name=\"DCTERMS.title\"/>\n",
       "<meta content=\"overzichtspagina\" name=\"DCTERMS.type\" scheme=\"OVERHEID.Informatietype\"/>\n",
       "<meta content=\"Het Register van Overheidsorganisaties bevat de namen, adressen en andere contactgegevens van de Nederlandse overheidsorganisaties. Ook de persoonsgegevens van (voornamelijk) leidinggevende personen binnen de Nederlandse overheid zijn opgenomen.\" name=\"DCTERMS.description\"/>\n",
       "<meta content=\"nl-NL\" name=\"DCTERMS.language\" scheme=\"XSD.language\"/>\n",
       "<meta content=\"Ministerie van Binnenlandse Zaken en Koninkrijksrelaties\" name=\"DCTERMS.authority\" scheme=\"overheid:Ministerie\"/>\n",
       "<meta content=\"Ministerie van Binnenlandse Zaken en Koninkrijksrelaties\" name=\"DCTERMS.creator\" scheme=\"overheid:Ministerie\"/>\n",
       "<meta content=\"Nederland\" name=\"DCTERMS.spatial\" scheme=\"OVERHEID.Koninkrijksdeel\"/>\n",
       "<meta content=\"CC0 1.0 Universal\" name=\"DCTERMS.rights\"/>\n",
       "<script type=\"text/javascript\">\n",
       "\t\t\t\t\t(function(window, document, script, dataLayer, id) {\n",
       "\t\t\t\t\t\twindow[dataLayer]=window[dataLayer]||[],window[dataLayer].push({start:(new Date).getTime(),event:\"stg.start\"});var scripts=document.getElementsByTagName(script)[0],tags=document.createElement(script),dl=\"dataLayer\"!=dataLayer?\"?dataLayer=\"+dataLayer:\"\";tags.async=!0,tags.src=\"//tagmanager.becop.nl/containers/1a96e6f9-01b9-4565-8580-046a1491ea57.js\"+dl,scripts.parentNode.insertBefore(tags,scripts);\n",
       "\t\t\t\t\t})(window, document, 'script', 'dataLayer', '1a96e6f9-01b9-4565-8580-046a1491ea57');\n",
       "\t\t\t\t</script>\n",
       "</head>\n",
       "<body>\n",
       "<header class=\"header\">\n",
       "<div class=\"header__start\">\n",
       "<div class=\"container\">\n",
       "<button aria-controls=\"nav\" aria-expanded=\"false\" class=\"hidden-desktop button button--icon-hamburger\" data-handler=\"toggle-nav\" type=\"button\">Menu</button>\n",
       "<div class=\"logo\">\n",
       "<a href=\"https://www.overheid.nl/\"><img alt=\"Overheid.nl\" src=\"/static/onl/images/logo.svg\"/></a>\n",
       "<p class=\"logo__you-are-here\"><span class=\"visually-hidden\">U bent nu hier: </span>\n",
       "<span>wegwijzer naar informatie en diensten van alle overheden</span>\n",
       "</p>\n",
       "</div>\n",
       "<div class=\"skiplinks\">\n",
       "<a href=\"#content\">Direct naar de inhoud</a>\n",
       "</div>\n",
       "</div>\n",
       "</div>\n",
       "<nav class=\"header__nav header__nav--closed\" id=\"nav\">\n",
       "<h2 class=\"visually-hidden\">Primaire navigatie</h2>\n",
       "<div class=\"container\">\n",
       "<ul class=\"header__primary-nav list list--unstyled\">\n",
       "<li class=\"hidden-mobile\"><a data-decorator=\"init-toggle-other-sites\" data-handler=\"toggle-other-sites\" href=\"#other-sites\"><span class=\"visually-hidden\">Andere sites binnen </span>Overheid.nl</a></li>\n",
       "</ul>\n",
       "<a class=\"hidden-desktop\" data-decorator=\"init-toggle-other-sites\" data-handler=\"toggle-other-sites\" href=\"#other-sites\"><span class=\"visually-hidden\">Andere sites binnen </span>Overheid.nl</a>\n",
       "</div>\n",
       "</nav>\n",
       "</header>\n",
       "<div class=\"header__more\" id=\"other-sites\">\n",
       "<div class=\"container columns\">\n",
       "<div>\n",
       "<h2>Aankondigingen over uw buurt</h2>\n",
       "<p>Zoals bouwplannen en verkeersmaatregelen.</p>\n",
       "<ul class=\"list list--linked\">\n",
       "<li><a href=\"https://www.overheid.nl/aankondigingen-over-uw-buurt\">Naar aankondigingen over uw buurt</a></li>\n",
       "</ul>\n",
       "</div>\n",
       "<div>\n",
       "<h2>Dienstverlening</h2>\n",
       "<p>Zoals belastingen, uitkeringen en subsidies.</p>\n",
       "<ul class=\"list list--linked\">\n",
       "<li><a href=\"https://www.overheid.nl/dienstverlening\">Naar dienstverlening</a></li>\n",
       "</ul>\n",
       "</div>\n",
       "<div>\n",
       "<h2>Beleid &amp; regelgeving</h2>\n",
       "<p>Officiële publicaties van de overheid.</p>\n",
       "<ul class=\"list list--linked\">\n",
       "<li><a href=\"https://www.overheid.nl/beleid-en-regelgeving\">Naar beleid &amp; regelgeving</a></li>\n",
       "</ul>\n",
       "</div>\n",
       "<div>\n",
       "<h2>Contactgegevens overheden</h2>\n",
       "<p>Adressen en contactpersonen van overheidsorganisaties.</p>\n",
       "<ul class=\"list list--linked\">\n",
       "<li><a href=\"/\">Naar overheidsorganisaties</a></li>\n",
       "</ul>\n",
       "</div>\n",
       "</div>\n",
       "</div>\n",
       "<div class=\"row row--page-opener\">\n",
       "<div class=\"container\">\n",
       "<div class=\"breadcrumb\">\n",
       "<p>U bent hier:</p>\n",
       "<ol>\n",
       "<li><a href=\"https://www.overheid.nl/\">Home</a></li>\n",
       "<li><a href=\"/\">Contactgegevens overheden</a></li>\n",
       "<li><a href=\"/Provincies\">Provincies</a></li>\n",
       "</ol>\n",
       "</div>\n",
       "</div>\n",
       "</div>\n",
       "<div class=\"row container\" id=\"content\">\n",
       "<div class=\"columns columns--sidebar-left\">\n",
       "<div data-roo-element=\"organisationtype-content\">\n",
       "<h1>Provincies</h1>\n",
       "<ul class=\"list--linked\">\n",
       "<li>\n",
       "<a href=\"/14557/Provincie_Drenthe\">Provincie Drenthe</a>\n",
       "</li>\n",
       "<li>\n",
       "<a href=\"/14866/Provincie_Flevoland\">Provincie Flevoland</a>\n",
       "</li>\n",
       "<li>\n",
       "<a href=\"/15184/Provincie_Fryslan\">Provincie Fryslân</a>\n",
       "</li>\n",
       "<li>\n",
       "<a href=\"/15185/Provincie_Gelderland\">Provincie Gelderland</a>\n",
       "</li>\n",
       "<li>\n",
       "<a href=\"/15632/Provincie_Groningen\">Provincie Groningen</a>\n",
       "</li>\n",
       "<li>\n",
       "<a href=\"/16071/Provincie_Limburg\">Provincie Limburg</a>\n",
       "</li>\n",
       "<li>\n",
       "<a href=\"/16317/Provincie_Noord-Brabant\">Provincie Noord-Brabant</a>\n",
       "</li>\n",
       "<li>\n",
       "<a href=\"/16412/Provincie_Noord-Holland\">Provincie Noord-Holland</a>\n",
       "</li>\n",
       "<li>\n",
       "<a href=\"/16771/Provincie_Overijssel\">Provincie Overijssel</a>\n",
       "</li>\n",
       "<li>\n",
       "<a href=\"/17166/Provincie_Utrecht\">Provincie Utrecht</a>\n",
       "</li>\n",
       "<li>\n",
       "<a href=\"/18166/Provincie_Zeeland\">Provincie Zeeland</a>\n",
       "</li>\n",
       "<li>\n",
       "<a href=\"/17466/Provincie_Zuid-Holland\">Provincie Zuid-Holland</a>\n",
       "</li>\n",
       "</ul>\n",
       "</div>\n",
       "<div data-roo-element=\"organisationtype-sidebar\">\n",
       "<div>\n",
       "<a class=\"icon icon--backlink\" href=\"/\">Terug naar Contactgegevens overheden</a>\n",
       "</div>\n",
       "<div><p></p></div>\n",
       "<div>\n",
       "<form accept-charset=\"utf-8\" action=\"/zoeken\" method=\"get\">\n",
       "<div class=\"form__element form__element--search\">\n",
       "<label class=\"visually-hidden\" for=\"zoeken\">Organisatie</label>\n",
       "<input id=\"zoeken\" name=\"field_zoek_organisate[0]\" placeholder=\"Zoekterm\" type=\"text\"/>\n",
       "<button class=\"button button--primary\" type=\"submit\">Zoek</button>\n",
       "</div>\n",
       "</form>\n",
       "</div>\n",
       "<div>\n",
       "<div class=\"actionblock\">\n",
       "<h3>Acties</h3>\n",
       "<ul class=\"actionblock__list\">\n",
       "<li>\n",
       "<a href=\"/export/Provincies.csv\" title=\"Exporteer overzicht als CSV-bestand\">\n",
       "<img alt=\"\" role=\"presentation\" src=\"/static/onl/images/icon-download.svg\"/>\n",
       "\t\t\t\t\t\t\t\t\t\tExporteer Provincies\n",
       "\t\t\t\t\t\t\t\t\t\t(<abbr title=\"Comma Separated Values\">CSV</abbr>-formaat)\t\t\t\t\t\t\t\t\n",
       "\t\t\t\t\t\t\t\t\t</a>\n",
       "</li>\n",
       "</ul>\n",
       "</div>\n",
       "</div>\n",
       "</div>\n",
       "</div>\n",
       "</div>\n",
       "<a class=\"to-top irrelevant\" data-decorator=\"to-top\" href=\"#\">Terug naar begin van de pagina</a>\n",
       "<div class=\"footer row--footer\">\n",
       "<div class=\"container columns\">\n",
       "<ul class=\"list list--linked\">\n",
       "<li class=\"first\"><a href=\"https://www.overheid.nl/over-deze-site\">Over deze website</a></li>\n",
       "<li class=\"\"><a href=\"https://www.overheid.nl/contact\">Contact</a></li>\n",
       "<li class=\"\"><a href=\"https://www.overheid.nl/english\">English</a></li>\n",
       "<li class=\"\"><a href=\"https://www.overheid.nl/help\">Help</a></li>\n",
       "<li class=\"last\"><a href=\"https://www.overheid.nl/help/zoeken\">Zoeken</a></li>\n",
       "</ul>\n",
       "<ul class=\"list list--linked\">\n",
       "<li class=\"first\"><a href=\"https://www.overheid.nl/informatie-hergebruiken\">Informatie hergebruiken</a></li>\n",
       "<li class=\"\"><a href=\"https://www.overheid.nl/privacy-statement\">Privacy en cookies</a></li>\n",
       "<li class=\"\"><a href=\"https://www.overheid.nl/toegankelijkheid\">Toegankelijkheid</a></li>\n",
       "<li class=\"last\"><a href=\"https://www.overheid.nl/sitemap\">Sitemap</a></li>\n",
       "</ul>\n",
       "<ul class=\"list list--linked\">\n",
       "<li class=\"first\"><a href=\"https://data.overheid.nl/\" rel=\"external\">Open data</a></li>\n",
       "<li class=\"\"><a href=\"http://linkeddata.overheid.nl\" rel=\"external\">Linked Data Overheid</a></li>\n",
       "<li class=\"last\"><a href=\"https://puc.overheid.nl/\" rel=\"external\">PUC Open Data</a></li>\n",
       "</ul>\n",
       "<ul class=\"list--linked\">\n",
       "<li class=\"first\"><a href=\"https://mijn.overheid.nl/\" rel=\"external\">MijnOverheid.nl</a></li>\n",
       "<li><a href=\"https://www.rijksoverheid.nl/\">Rijksoverheid.nl</a></li>\n",
       "<li><a href=\"https://ondernemersplein.kvk.nl/\">Ondernemersplein</a></li>\n",
       "<li class=\"last\"><a href=\"https://www.werkenbijdeoverheid.nl/\">Werkenbijdeoverheid.nl</a></li>\n",
       "</ul>\n",
       "</div>\n",
       "</div>\n",
       "<script src=\"/static/onl/js/main.js\"></script>\n",
       "<noscript><iframe height=\"0\" src=\"//tagmanager.becop.nl/containers/1a96e6f9-01b9-4565-8580-046a1491ea57/noscript.html\" style=\"display:none;visibility:hidden\" width=\"0\"></iframe></noscript>\n",
       "</body>\n",
       "</html>"
      ]
     },
     "execution_count": 6,
     "metadata": {},
     "output_type": "execute_result"
    }
   ],
   "source": [
    "# check de soep\n",
    "soup"
   ]
  },
  {
   "cell_type": "code",
   "execution_count": 7,
   "metadata": {},
   "outputs": [
    {
     "data": {
      "text/plain": [
       "[<a href=\"https://www.overheid.nl/\"><img alt=\"Overheid.nl\" src=\"/static/onl/images/logo.svg\"/></a>,\n",
       " <a href=\"#content\">Direct naar de inhoud</a>,\n",
       " <a data-decorator=\"init-toggle-other-sites\" data-handler=\"toggle-other-sites\" href=\"#other-sites\"><span class=\"visually-hidden\">Andere sites binnen </span>Overheid.nl</a>,\n",
       " <a class=\"hidden-desktop\" data-decorator=\"init-toggle-other-sites\" data-handler=\"toggle-other-sites\" href=\"#other-sites\"><span class=\"visually-hidden\">Andere sites binnen </span>Overheid.nl</a>,\n",
       " <a href=\"https://www.overheid.nl/aankondigingen-over-uw-buurt\">Naar aankondigingen over uw buurt</a>,\n",
       " <a href=\"https://www.overheid.nl/dienstverlening\">Naar dienstverlening</a>,\n",
       " <a href=\"https://www.overheid.nl/beleid-en-regelgeving\">Naar beleid &amp; regelgeving</a>,\n",
       " <a href=\"/\">Naar overheidsorganisaties</a>,\n",
       " <a href=\"https://www.overheid.nl/\">Home</a>,\n",
       " <a href=\"/\">Contactgegevens overheden</a>,\n",
       " <a href=\"/Provincies\">Provincies</a>,\n",
       " <a href=\"/14557/Provincie_Drenthe\">Provincie Drenthe</a>,\n",
       " <a href=\"/14866/Provincie_Flevoland\">Provincie Flevoland</a>,\n",
       " <a href=\"/15184/Provincie_Fryslan\">Provincie Fryslân</a>,\n",
       " <a href=\"/15185/Provincie_Gelderland\">Provincie Gelderland</a>,\n",
       " <a href=\"/15632/Provincie_Groningen\">Provincie Groningen</a>,\n",
       " <a href=\"/16071/Provincie_Limburg\">Provincie Limburg</a>,\n",
       " <a href=\"/16317/Provincie_Noord-Brabant\">Provincie Noord-Brabant</a>,\n",
       " <a href=\"/16412/Provincie_Noord-Holland\">Provincie Noord-Holland</a>,\n",
       " <a href=\"/16771/Provincie_Overijssel\">Provincie Overijssel</a>,\n",
       " <a href=\"/17166/Provincie_Utrecht\">Provincie Utrecht</a>,\n",
       " <a href=\"/18166/Provincie_Zeeland\">Provincie Zeeland</a>,\n",
       " <a href=\"/17466/Provincie_Zuid-Holland\">Provincie Zuid-Holland</a>,\n",
       " <a class=\"icon icon--backlink\" href=\"/\">Terug naar Contactgegevens overheden</a>,\n",
       " <a href=\"/export/Provincies.csv\" title=\"Exporteer overzicht als CSV-bestand\">\n",
       " <img alt=\"\" role=\"presentation\" src=\"/static/onl/images/icon-download.svg\"/>\n",
       " \t\t\t\t\t\t\t\t\t\tExporteer Provincies\n",
       " \t\t\t\t\t\t\t\t\t\t(<abbr title=\"Comma Separated Values\">CSV</abbr>-formaat)\t\t\t\t\t\t\t\t\n",
       " \t\t\t\t\t\t\t\t\t</a>,\n",
       " <a class=\"to-top irrelevant\" data-decorator=\"to-top\" href=\"#\">Terug naar begin van de pagina</a>,\n",
       " <a href=\"https://www.overheid.nl/over-deze-site\">Over deze website</a>,\n",
       " <a href=\"https://www.overheid.nl/contact\">Contact</a>,\n",
       " <a href=\"https://www.overheid.nl/english\">English</a>,\n",
       " <a href=\"https://www.overheid.nl/help\">Help</a>,\n",
       " <a href=\"https://www.overheid.nl/help/zoeken\">Zoeken</a>,\n",
       " <a href=\"https://www.overheid.nl/informatie-hergebruiken\">Informatie hergebruiken</a>,\n",
       " <a href=\"https://www.overheid.nl/privacy-statement\">Privacy en cookies</a>,\n",
       " <a href=\"https://www.overheid.nl/toegankelijkheid\">Toegankelijkheid</a>,\n",
       " <a href=\"https://www.overheid.nl/sitemap\">Sitemap</a>,\n",
       " <a href=\"https://data.overheid.nl/\" rel=\"external\">Open data</a>,\n",
       " <a href=\"http://linkeddata.overheid.nl\" rel=\"external\">Linked Data Overheid</a>,\n",
       " <a href=\"https://puc.overheid.nl/\" rel=\"external\">PUC Open Data</a>,\n",
       " <a href=\"https://mijn.overheid.nl/\" rel=\"external\">MijnOverheid.nl</a>,\n",
       " <a href=\"https://www.rijksoverheid.nl/\">Rijksoverheid.nl</a>,\n",
       " <a href=\"https://ondernemersplein.kvk.nl/\">Ondernemersplein</a>,\n",
       " <a href=\"https://www.werkenbijdeoverheid.nl/\">Werkenbijdeoverheid.nl</a>]"
      ]
     },
     "execution_count": 7,
     "metadata": {},
     "output_type": "execute_result"
    }
   ],
   "source": [
    "# toon me alle links uit de soep\n",
    "soup.find_all('a')"
   ]
  },
  {
   "cell_type": "markdown",
   "metadata": {},
   "source": [
    "Omdat er veel links tussen zitten die we niet willen, ga ik de links filteren met een reguliere expressie. \n",
    "Alle links die ik wel wil beginnen met */ een getal / provincienaam*"
   ]
  },
  {
   "cell_type": "code",
   "execution_count": 8,
   "metadata": {},
   "outputs": [],
   "source": [
    "# maak een lege lijst met provincie urls\n",
    "urls = []"
   ]
  },
  {
   "cell_type": "code",
   "execution_count": 9,
   "metadata": {},
   "outputs": [],
   "source": [
    "# voor elke link in alle links uit de soep...\n",
    "for i in soup.find_all('a'):\n",
    "    # als de link matcht met deze regex...\n",
    "    if re.match(r'\\/[0-9]+\\/Provincie.*', i['href']):\n",
    "        # voeg dan alleen de link, dus niet de hele 'a', \n",
    "        # maar alleen het url-deel: href=\" WAT HIER STAAT \" toe aan de lijst\n",
    "        urls.append(i['href'])\n",
    "    # als de link niet matcht...\n",
    "    else:\n",
    "        # doe niets en ga door naar de volgende\n",
    "        pass"
   ]
  },
  {
   "cell_type": "code",
   "execution_count": 10,
   "metadata": {},
   "outputs": [
    {
     "data": {
      "text/plain": [
       "12"
      ]
     },
     "execution_count": 10,
     "metadata": {},
     "output_type": "execute_result"
    }
   ],
   "source": [
    "# len() geeft je de lengte van een lijst; als het goed is bevat urls 12 items\n",
    "len(urls)"
   ]
  },
  {
   "cell_type": "code",
   "execution_count": 11,
   "metadata": {},
   "outputs": [
    {
     "data": {
      "text/plain": [
       "['/14557/Provincie_Drenthe',\n",
       " '/14866/Provincie_Flevoland',\n",
       " '/15184/Provincie_Fryslan',\n",
       " '/15185/Provincie_Gelderland',\n",
       " '/15632/Provincie_Groningen',\n",
       " '/16071/Provincie_Limburg',\n",
       " '/16317/Provincie_Noord-Brabant',\n",
       " '/16412/Provincie_Noord-Holland',\n",
       " '/16771/Provincie_Overijssel',\n",
       " '/17166/Provincie_Utrecht',\n",
       " '/18166/Provincie_Zeeland',\n",
       " '/17466/Provincie_Zuid-Holland']"
      ]
     },
     "execution_count": 11,
     "metadata": {},
     "output_type": "execute_result"
    }
   ],
   "source": [
    "# dubbelcheck\n",
    "urls"
   ]
  },
  {
   "cell_type": "markdown",
   "metadata": {},
   "source": [
    "## 2. Voor elke pagina...\n",
    "**pagina opvragen**  \n",
    "\n",
    "Om te testen gebruik ik alleen de eerste link uit de url-lijst. Vooraf heb ik wel alle links bekeken. Daardoor weet ik bijvoorbeeld dat niet alle tabellen een faxnummer bevatten..."
   ]
  },
  {
   "cell_type": "code",
   "execution_count": 12,
   "metadata": {},
   "outputs": [],
   "source": [
    "# doe een requests, ipv de url zeg ik neem het 1e item uit de lijst urls\n",
    "# een computer telt altijd vanaf 0, dus het 1e item is url[0]\n",
    "\n",
    "# verder: je kunt teksten combineren door +\n",
    "# dat de lijst dus maar de helft van de urls bevat los ik daarmee op\n",
    "\n",
    "r = requests.get('https://almanak.overheid.nl'+urls[0])"
   ]
  },
  {
   "cell_type": "code",
   "execution_count": 13,
   "metadata": {},
   "outputs": [
    {
     "data": {
      "text/plain": [
       "<Response [200]>"
      ]
     },
     "execution_count": 13,
     "metadata": {},
     "output_type": "execute_result"
    }
   ],
   "source": [
    "# als het gelukt is, dan is de status_code of response 200\n",
    "r"
   ]
  },
  {
   "cell_type": "code",
   "execution_count": 14,
   "metadata": {},
   "outputs": [],
   "source": [
    "# laat BeautifulSoup de HTML verwerken, zodat we die kunnen bevragen. Andersgezegd: maak een soepje\n",
    "soup = BeautifulSoup(r.content, 'html.parser')"
   ]
  },
  {
   "cell_type": "markdown",
   "metadata": {},
   "source": [
    "**informatie selecteren**"
   ]
  },
  {
   "cell_type": "code",
   "execution_count": 15,
   "metadata": {},
   "outputs": [
    {
     "data": {
      "text/plain": [
       "<!DOCTYPE html>\n",
       "\n",
       "<html lang=\"nl\">\n",
       "<head>\n",
       "<title>Contactgegevens Provincie Drenthe | Overheid.nl</title>\n",
       "<link href=\"/static/onl/css/generic.css\" rel=\"stylesheet\" title=\"default\"/>\n",
       "<link href=\"/static/onl/images/favicon.ico\" rel=\"shortcut icon\" type=\"image/vnd.microsoft.icon\"/>\n",
       "<meta charset=\"utf-8\"/>\n",
       "<meta content=\"IE=edge\" http-equiv=\"X-UA-Compatible\"/>\n",
       "<meta content=\"width=device-width,initial-scale=1\" name=\"viewport\"/>\n",
       "<meta content=\"https://almanak.overheid.nl/14557/Provincie_Drenthe\" name=\"DCTERMS.identifier\" scheme=\"XSD.anyURI\"/>\n",
       "<meta content=\"Contactgegevens Provincie Drenthe | Overheid.nl\" name=\"DCTERMS.title\"/>\n",
       "<meta content=\"overzichtspagina\" name=\"DCTERMS.type\" scheme=\"OVERHEID.Informatietype\"/>\n",
       "<meta content=\"Het Register van Overheidsorganisaties bevat de namen, adressen en andere contactgegevens van de Nederlandse overheidsorganisaties. Ook de persoonsgegevens van (voornamelijk) leidinggevende personen binnen de Nederlandse overheid zijn opgenomen.\" name=\"DCTERMS.description\"/>\n",
       "<meta content=\"nl-NL\" name=\"DCTERMS.language\" scheme=\"XSD.language\"/>\n",
       "<meta content=\"Ministerie van Binnenlandse Zaken en Koninkrijksrelaties\" name=\"DCTERMS.authority\" scheme=\"overheid:Ministerie\"/>\n",
       "<meta content=\"Ministerie van Binnenlandse Zaken en Koninkrijksrelaties\" name=\"DCTERMS.creator\" scheme=\"overheid:Ministerie\"/>\n",
       "<meta content=\"2019-02-11 13:54\" name=\"DCTERMS.modified\" title=\"XSD.dateTime\"/>\n",
       "<meta content=\"Nederland\" name=\"DCTERMS.spatial\" scheme=\"OVERHEID.Koninkrijksdeel\"/>\n",
       "<meta content=\"CC0 1.0 Universal\" name=\"DCTERMS.rights\"/>\n",
       "<link content=\"http://standaarden.overheid.nl/owms/terms/Drenthe\" rel=\"DCTERMS.subject\"/>\n",
       "<script type=\"text/javascript\">\n",
       "\t\t\t\t\t(function(window, document, script, dataLayer, id) {\n",
       "\t\t\t\t\t\twindow[dataLayer]=window[dataLayer]||[],window[dataLayer].push({start:(new Date).getTime(),event:\"stg.start\"});var scripts=document.getElementsByTagName(script)[0],tags=document.createElement(script),dl=\"dataLayer\"!=dataLayer?\"?dataLayer=\"+dataLayer:\"\";tags.async=!0,tags.src=\"//tagmanager.becop.nl/containers/1a96e6f9-01b9-4565-8580-046a1491ea57.js\"+dl,scripts.parentNode.insertBefore(tags,scripts);\n",
       "\t\t\t\t\t})(window, document, 'script', 'dataLayer', '1a96e6f9-01b9-4565-8580-046a1491ea57');\n",
       "\t\t\t\t</script>\n",
       "</head>\n",
       "<body>\n",
       "<header class=\"header\">\n",
       "<div class=\"header__start\">\n",
       "<div class=\"container\">\n",
       "<button aria-controls=\"nav\" aria-expanded=\"false\" class=\"hidden-desktop button button--icon-hamburger\" data-handler=\"toggle-nav\" type=\"button\">Menu</button>\n",
       "<div class=\"logo\">\n",
       "<a href=\"https://www.overheid.nl/\"><img alt=\"Overheid.nl\" src=\"/static/onl/images/logo.svg\"/></a>\n",
       "<p class=\"logo__you-are-here\"><span class=\"visually-hidden\">U bent nu hier: </span>\n",
       "<span>wegwijzer naar informatie en diensten van alle overheden</span>\n",
       "</p>\n",
       "</div>\n",
       "<div class=\"skiplinks\">\n",
       "<a href=\"#content\">Direct naar de inhoud</a>\n",
       "</div>\n",
       "</div>\n",
       "</div>\n",
       "<nav class=\"header__nav header__nav--closed\" id=\"nav\">\n",
       "<h2 class=\"visually-hidden\">Primaire navigatie</h2>\n",
       "<div class=\"container\">\n",
       "<ul class=\"header__primary-nav list list--unstyled\">\n",
       "<li class=\"hidden-mobile\"><a data-decorator=\"init-toggle-other-sites\" data-handler=\"toggle-other-sites\" href=\"#other-sites\"><span class=\"visually-hidden\">Andere sites binnen </span>Overheid.nl</a></li>\n",
       "</ul>\n",
       "<a class=\"hidden-desktop\" data-decorator=\"init-toggle-other-sites\" data-handler=\"toggle-other-sites\" href=\"#other-sites\"><span class=\"visually-hidden\">Andere sites binnen </span>Overheid.nl</a>\n",
       "</div>\n",
       "</nav>\n",
       "</header>\n",
       "<div class=\"header__more\" id=\"other-sites\">\n",
       "<div class=\"container columns\">\n",
       "<div>\n",
       "<h2>Aankondigingen over uw buurt</h2>\n",
       "<p>Zoals bouwplannen en verkeersmaatregelen.</p>\n",
       "<ul class=\"list list--linked\">\n",
       "<li><a href=\"https://www.overheid.nl/aankondigingen-over-uw-buurt\">Naar aankondigingen over uw buurt</a></li>\n",
       "</ul>\n",
       "</div>\n",
       "<div>\n",
       "<h2>Dienstverlening</h2>\n",
       "<p>Zoals belastingen, uitkeringen en subsidies.</p>\n",
       "<ul class=\"list list--linked\">\n",
       "<li><a href=\"https://www.overheid.nl/dienstverlening\">Naar dienstverlening</a></li>\n",
       "</ul>\n",
       "</div>\n",
       "<div>\n",
       "<h2>Beleid &amp; regelgeving</h2>\n",
       "<p>Officiële publicaties van de overheid.</p>\n",
       "<ul class=\"list list--linked\">\n",
       "<li><a href=\"https://www.overheid.nl/beleid-en-regelgeving\">Naar beleid &amp; regelgeving</a></li>\n",
       "</ul>\n",
       "</div>\n",
       "<div>\n",
       "<h2>Contactgegevens overheden</h2>\n",
       "<p>Adressen en contactpersonen van overheidsorganisaties.</p>\n",
       "<ul class=\"list list--linked\">\n",
       "<li><a href=\"/\">Naar overheidsorganisaties</a></li>\n",
       "</ul>\n",
       "</div>\n",
       "</div>\n",
       "</div>\n",
       "<div class=\"row row--page-opener\">\n",
       "<div class=\"container\">\n",
       "<div class=\"breadcrumb\">\n",
       "<p>U bent hier:</p>\n",
       "<ol>\n",
       "<li><a href=\"https://www.overheid.nl/\">Home</a></li>\n",
       "<li><a href=\"/\">Contactgegevens overheden</a></li>\n",
       "<li>\n",
       "<a href=\"/Provincies\">Provincies</a>\n",
       "</li>\n",
       "<li>Provincie Drenthe</li>\n",
       "</ol>\n",
       "</div>\n",
       "</div>\n",
       "</div>\n",
       "<div class=\"container columns columns--sticky-sidebar row\" id=\"content\">\n",
       "<div class=\"columns--sticky-sidebar__sidebar\" data-decorator=\"stick-sidebar add-mobile-foldability\" data-roo-element=\"organisation-sidebar\" id=\"toggleable-1\">\n",
       "<div>\n",
       "<a class=\"icon--backlink\" href=\"/Provincies/\">Terug naar Provincies</a>\n",
       "<h2>\n",
       "\t\t\t\t\tProvincie Drenthe\n",
       "\t\t\t\t\t\n",
       "\t\t\n",
       "\t\t\n",
       "\t\t\t\n",
       "\t\t\n",
       "\t\n",
       "\t\t\t\t\t<span>\n",
       "</span>\n",
       "</h2>\n",
       "<ul class=\"list--linked\">\n",
       "<li><a data-roo-selector=\"nav-adresgegevens\" href=\"#adresgegevens\">Adresgegevens</a></li>\n",
       "<li><a data-roo-selector=\"nav-basisgegevens\" href=\"#basis-organisatie\">Basisgegevens</a></li>\n",
       "<li>\n",
       "<a data-roo-selector=\"nav-classificaties\" href=\"#classificaties\">Classificaties \n",
       "\t\t\t\t\t\t\t\t\t(1)\n",
       "\t\t\t\t\t\t\t\t</a>\n",
       "<ul class=\"list--linked\">\n",
       "<li>\n",
       "<a href=\"#classificaties\">\n",
       "\t\t\t\t\t\t\t\t\t\t\tWNT-instelling\n",
       "\t\t\t\t\t\t\t\t\t\t</a>\n",
       "</li>\n",
       "</ul>\n",
       "</li>\n",
       "<li>\n",
       "<a data-roo-selector=\"nav-relaties\" href=\"#relaties\">Relaties (10)</a>\n",
       "</li>\n",
       "</ul>\n",
       "<h3>Zie ook</h3>\n",
       "<ul class=\"list--linked\">\n",
       "<li>\n",
       "<a data-roo-selector=\"nav-help\" href=\"https://www.overheid.nl/help/overheidsorganisaties\">Help</a>\n",
       "</li>\n",
       "</ul>\n",
       "</div>\n",
       "</div>\n",
       "<div data-roo-element=\"organisation-content\">\n",
       "<div>\n",
       "<h1 data-roo-element=\"element-naam-en-afkorting\">\n",
       "\t\t\t\t\tProvincie Drenthe\n",
       "\t\t\t\t\t\n",
       "\t\t\n",
       "\t\t\n",
       "\t\t\t\n",
       "\t\t\n",
       "\t\n",
       "\t\t\t\t</h1>\n",
       "<p data-roo-element=\"element-active-from-till\">\n",
       "</p>\n",
       "<h2 id=\"adresgegevens\">Adresgegevens</h2>\n",
       "<table class=\"table__data-overview\" data-roo-element=\"element-adresgegevens\">\n",
       "<tr>\n",
       "<th scope=\"row\">Bezoekadres</th>\n",
       "<td data-before=\"Bezoekadres\">\n",
       "\t\t\t\t\tWesterbrink 1<br/>\n",
       "\t\t\t\t\t9405 BJ Assen\n",
       "\t\t\t\t</td>\n",
       "</tr>\n",
       "<tr>\n",
       "<th scope=\"row\">Postadres</th>\n",
       "<td data-before=\"Postadres\">\n",
       "\t\t\t\t\t\n",
       "\t\t\t\t\tPostbus 122<br/>\n",
       "\t\t\t\t\t9400 AC Assen\n",
       "\t\t\t\t</td>\n",
       "</tr>\n",
       "<tr>\n",
       "<th scope=\"row\">Telefoon</th>\n",
       "<td data-before=\"Telefoon\">\n",
       "\t\t\t\t\t\t(0592) 36 55 55 (algemeen)\n",
       "\t\t\t\t\t\t\n",
       "\t\t\t\t\t\t\n",
       "\t\t\t\t\t\t\n",
       "\t\t\t\t\t</td>\n",
       "</tr>\n",
       "<tr>\n",
       "<th scope=\"row\">Fax</th>\n",
       "<td data-before=\"Fax\">(0592) 36 57 77</td>\n",
       "</tr>\n",
       "<tr>\n",
       "<th scope=\"row\">Internet</th>\n",
       "<td data-before=\"Internet\">\n",
       "<a href=\"http://www.provincie.drenthe.nl\">http://www.provincie.drenthe.nl</a>\n",
       "\t\t\t\t\t\t (algemeen)\n",
       "\t\t\t\t\t\t\n",
       "\t\t\t\t\t\t\n",
       "\t\t\t\t\t</td>\n",
       "</tr>\n",
       "<tr>\n",
       "<th scope=\"row\">E-mail</th>\n",
       "<td data-before=\"E-mail\">\n",
       "<a href=\"mailto:post@drenthe.nl\">post@drenthe.nl</a>\n",
       "\t\t\t\t\t\t (algemeen)\n",
       "\t\t\t\t\t\t\n",
       "\t\t\t\t\t\t\n",
       "\t\t\t\t\t</td>\n",
       "</tr>\n",
       "</table>\n",
       "<h2 id=\"basis-organisatie\">Basisgegevens</h2>\n",
       "<table class=\"table__data-overview\" data-roo-element=\"element-basisgegevens\">\n",
       "<tr>\n",
       "<th scope=\"row\">\n",
       "\t\t\t\t\t\t\t\t\t\tOrganisatietype\n",
       "\t\t\t\t\t\t\t\t\t</th>\n",
       "<td data-before=\"Organisatietype\">\n",
       "\t\t\t\t\t\t\t\t\t\t\n",
       "\t\t\t\t\t\t\t\t\t\t\t\n",
       "\t\t\t\t\t\t\t\t\t\t\t\t\n",
       "\t\t\t\t\t\t\t\t\t\t\t\t\t\n",
       "\t\tProvincie\n",
       "\t\n",
       "\t\t\t\t\t\t\t\t\t\t\t\t\n",
       "\t\t\t\t\t\t\t\t\t\t\t\t\n",
       "\t\t\t\t\t\t\t\t\t\t\t\n",
       "\t\t\t\t\t\t\t\t\t\t\n",
       "\t\t\t\t\t\t\t\t\t</td>\n",
       "</tr>\n",
       "</table>\n",
       "<h2 id=\"classificaties\">Classificaties (1)</h2>\n",
       "<table data-roo-element=\"element-classificaties\">\n",
       "<thead>\n",
       "<tr>\n",
       "<th scope=\"col\">Geldigheid</th>\n",
       "<th scope=\"col\">Classificatie</th>\n",
       "<th scope=\"col\">Grondslag</th>\n",
       "</tr>\n",
       "</thead>\n",
       "<tr>\n",
       "<td data-before=\"Geldigheid\">\n",
       "\t\t\t\t\t\t\t\t\t\n",
       "\t\tGeldend van \n",
       "\t\t01-01-2018\n",
       "\t\t\n",
       "\t\tt/m\n",
       "\t\t\n",
       "\t\theden\t\t\t \n",
       "\t\n",
       "\t\t\t\t\t\t\t\t</td>\n",
       "<td data-before=\"Classificatie\">\n",
       "<b>\n",
       "<a href=\"https://www.topinkomens.nl/voor-wnt-instellingen/wnt-register\">\n",
       "\t\t\t\t\t\t\t\t\t\t\t\t\tWNT-instelling\n",
       "\t\t\t\t\t\t\t\t\t\t\t\t</a>\n",
       "</b>\n",
       "\t\t\t\t\t\t\t\t\t\t\n",
       "\t\t\t\t\t\t\t\t\t\t\n",
       "\t\t\t\t\t\t\t\t\t\t\t\t\t\t\t\t\t\t\n",
       "\t\t\t\t\t\t\t\t\tDeze organisatie valt onder de Wet normering topinkomens (WNT)\t\t\t\t\t\t\t\t\n",
       "\t\t\t\t\t\t\t\t</td>\n",
       "<td data-before=\"Grondslag\">\n",
       "<a href=\"http://wetten.overheid.nl/jci1.3:c:BWBR0032249&amp;paragraaf=1&amp;artikel=1.2&amp;lid=1\">\n",
       "\t\t\t\t\t\t\t\t\t\tProvincies (Artikel 1.2, lid 1b, WNT)\n",
       "\t\t\t\t\t\t\t\t\t</a>\n",
       "</td>\n",
       "</tr>\n",
       "</table>\n",
       "<h2 data-roo-element=\"element-relaties\" id=\"relaties\">Relaties (10)</h2>\n",
       "<h3>\n",
       "\t\t\t\t\t\t\t\tNeemt deel aan gemeenschappelijke regelingen (4):\n",
       "\t\t\t\t\t\t\t</h3>\n",
       "<ul class=\"list--linked\">\n",
       "<li>\n",
       "<a href=\"/27620806/Gemeenschappelijke_regeling_de_Noordelijke_Rekenkamer/\">\n",
       "\t\t\tGemeenschappelijke regeling de Noordelijke Rekenkamer\n",
       "\t\t\t\n",
       "\t\t</a>\n",
       "</li>\n",
       "<li>\n",
       "<a href=\"/24964855/Gemeenschappelijke_regeling_Eems_Dollard_Regio/\">\n",
       "\t\t\tGemeenschappelijke regeling Eems Dollard Regio\n",
       "\t\t\t\n",
       "\t\t</a>\n",
       "</li>\n",
       "<li>\n",
       "<a href=\"/24965758/Gemeenschappelijke_Regeling_OV-bureau_van_de_gemeente_Groningen_en_de_provincies_Groningen_en_Drenthe/\">\n",
       "\t\t\tGemeenschappelijke Regeling OV-bureau van de gemeente Groningen en de provincies Groningen en Drenthe\n",
       "\t\t\t\n",
       "\t\t</a>\n",
       "</li>\n",
       "<li>\n",
       "<a href=\"/23826087/Gemeenschappelijke_Regeling_Samenwerkingsverband_Noord-Nederland/\">\n",
       "\t\t\tGemeenschappelijke Regeling Samenwerkingsverband Noord-Nederland\n",
       "\t\t\t\n",
       "\t\t</a>\n",
       "</li>\n",
       "</ul>\n",
       "<h3>\n",
       "\t\t\t\t\t\t\t\t\tOrganisatieonderdelen (6):\n",
       "\t\t\t\t\t\t\t\t</h3>\n",
       "<ul class=\"list--linked\">\n",
       "<li>\n",
       "<a href=\"/67286/Commissaris_van_de_Koning/\">\n",
       "\t\t\tCommissaris van de Koning\n",
       "\t\t\t\n",
       "\t\t</a>\n",
       "</li>\n",
       "<li>\n",
       "<a href=\"/110507/Provinciale_Staten/\">\n",
       "\t\t\tProvinciale Staten\n",
       "\t\t\t\n",
       "\t\t</a>\n",
       "</li>\n",
       "<li>\n",
       "<a href=\"/14563/Gedeputeerde_Staten/\">\n",
       "\t\t\tGedeputeerde Staten\n",
       "\t\t\t\n",
       "\t\t</a>\n",
       "</li>\n",
       "<li>\n",
       "<a href=\"/14690/Presidium_van_provinciale_staten/\">\n",
       "\t\t\tPresidium van provinciale staten\n",
       "\t\t\t\n",
       "\t\t</a>\n",
       "</li>\n",
       "<li>\n",
       "<a href=\"/14769/Statencommissies/\">\n",
       "\t\t\tStatencommissies\n",
       "\t\t\t\n",
       "\t\t</a>\n",
       "</li>\n",
       "<li>\n",
       "<a href=\"/14573/Provinciale_organisatie/\">\n",
       "\t\t\tProvinciale organisatie\n",
       "\t\t\t\n",
       "\t\t</a>\n",
       "</li>\n",
       "</ul>\n",
       "</div>\n",
       "</div>\n",
       "</div>\n",
       "<a class=\"to-top irrelevant\" data-decorator=\"to-top\" href=\"#\">Terug naar begin van de pagina</a>\n",
       "<div class=\"footer row--footer\">\n",
       "<div class=\"container columns\">\n",
       "<ul class=\"list list--linked\">\n",
       "<li class=\"first\"><a href=\"https://www.overheid.nl/over-deze-site\">Over deze website</a></li>\n",
       "<li class=\"\"><a href=\"https://www.overheid.nl/contact\">Contact</a></li>\n",
       "<li class=\"\"><a href=\"https://www.overheid.nl/english\">English</a></li>\n",
       "<li class=\"\"><a href=\"https://www.overheid.nl/help\">Help</a></li>\n",
       "<li class=\"last\"><a href=\"https://www.overheid.nl/help/zoeken\">Zoeken</a></li>\n",
       "</ul>\n",
       "<ul class=\"list list--linked\">\n",
       "<li class=\"first\"><a href=\"https://www.overheid.nl/informatie-hergebruiken\">Informatie hergebruiken</a></li>\n",
       "<li class=\"\"><a href=\"https://www.overheid.nl/privacy-statement\">Privacy en cookies</a></li>\n",
       "<li class=\"\"><a href=\"https://www.overheid.nl/toegankelijkheid\">Toegankelijkheid</a></li>\n",
       "<li class=\"last\"><a href=\"https://www.overheid.nl/sitemap\">Sitemap</a></li>\n",
       "</ul>\n",
       "<ul class=\"list list--linked\">\n",
       "<li class=\"first\"><a href=\"https://data.overheid.nl/\" rel=\"external\">Open data</a></li>\n",
       "<li class=\"\"><a href=\"http://linkeddata.overheid.nl\" rel=\"external\">Linked Data Overheid</a></li>\n",
       "<li class=\"last\"><a href=\"https://puc.overheid.nl/\" rel=\"external\">PUC Open Data</a></li>\n",
       "</ul>\n",
       "<ul class=\"list--linked\">\n",
       "<li class=\"first\"><a href=\"https://mijn.overheid.nl/\" rel=\"external\">MijnOverheid.nl</a></li>\n",
       "<li><a href=\"https://www.rijksoverheid.nl/\">Rijksoverheid.nl</a></li>\n",
       "<li><a href=\"https://ondernemersplein.kvk.nl/\">Ondernemersplein</a></li>\n",
       "<li class=\"last\"><a href=\"https://www.werkenbijdeoverheid.nl/\">Werkenbijdeoverheid.nl</a></li>\n",
       "</ul>\n",
       "</div>\n",
       "</div>\n",
       "<script src=\"/static/onl/js/main.js\"></script>\n",
       "<noscript><iframe height=\"0\" src=\"//tagmanager.becop.nl/containers/1a96e6f9-01b9-4565-8580-046a1491ea57/noscript.html\" style=\"display:none;visibility:hidden\" width=\"0\"></iframe></noscript>\n",
       "</body>\n",
       "</html>"
      ]
     },
     "execution_count": 15,
     "metadata": {},
     "output_type": "execute_result"
    }
   ],
   "source": [
    "# check de soep\n",
    "soup"
   ]
  },
  {
   "cell_type": "code",
   "execution_count": 16,
   "metadata": {},
   "outputs": [],
   "source": [
    "# alle informatie die ik wil staat in de 1e tabel, die ga ik er dus eerst uithalen\n",
    "tabel1 = soup.find('table')"
   ]
  },
  {
   "cell_type": "code",
   "execution_count": 17,
   "metadata": {},
   "outputs": [
    {
     "data": {
      "text/plain": [
       "<table class=\"table__data-overview\" data-roo-element=\"element-adresgegevens\">\n",
       "<tr>\n",
       "<th scope=\"row\">Bezoekadres</th>\n",
       "<td data-before=\"Bezoekadres\">\n",
       "\t\t\t\t\tWesterbrink 1<br/>\n",
       "\t\t\t\t\t9405 BJ Assen\n",
       "\t\t\t\t</td>\n",
       "</tr>\n",
       "<tr>\n",
       "<th scope=\"row\">Postadres</th>\n",
       "<td data-before=\"Postadres\">\n",
       "\t\t\t\t\t\n",
       "\t\t\t\t\tPostbus 122<br/>\n",
       "\t\t\t\t\t9400 AC Assen\n",
       "\t\t\t\t</td>\n",
       "</tr>\n",
       "<tr>\n",
       "<th scope=\"row\">Telefoon</th>\n",
       "<td data-before=\"Telefoon\">\n",
       "\t\t\t\t\t\t(0592) 36 55 55 (algemeen)\n",
       "\t\t\t\t\t\t\n",
       "\t\t\t\t\t\t\n",
       "\t\t\t\t\t\t\n",
       "\t\t\t\t\t</td>\n",
       "</tr>\n",
       "<tr>\n",
       "<th scope=\"row\">Fax</th>\n",
       "<td data-before=\"Fax\">(0592) 36 57 77</td>\n",
       "</tr>\n",
       "<tr>\n",
       "<th scope=\"row\">Internet</th>\n",
       "<td data-before=\"Internet\">\n",
       "<a href=\"http://www.provincie.drenthe.nl\">http://www.provincie.drenthe.nl</a>\n",
       "\t\t\t\t\t\t (algemeen)\n",
       "\t\t\t\t\t\t\n",
       "\t\t\t\t\t\t\n",
       "\t\t\t\t\t</td>\n",
       "</tr>\n",
       "<tr>\n",
       "<th scope=\"row\">E-mail</th>\n",
       "<td data-before=\"E-mail\">\n",
       "<a href=\"mailto:post@drenthe.nl\">post@drenthe.nl</a>\n",
       "\t\t\t\t\t\t (algemeen)\n",
       "\t\t\t\t\t\t\n",
       "\t\t\t\t\t\t\n",
       "\t\t\t\t\t</td>\n",
       "</tr>\n",
       "</table>"
      ]
     },
     "execution_count": 17,
     "metadata": {},
     "output_type": "execute_result"
    }
   ],
   "source": [
    "# check de tabel\n",
    "tabel1"
   ]
  },
  {
   "cell_type": "code",
   "execution_count": 18,
   "metadata": {},
   "outputs": [],
   "source": [
    "# het bezoekadres staat in de 1e td\n",
    "bezoekadres = tabel1.find_all('td')[0]"
   ]
  },
  {
   "cell_type": "code",
   "execution_count": 19,
   "metadata": {},
   "outputs": [
    {
     "data": {
      "text/plain": [
       "<td data-before=\"Bezoekadres\">\n",
       "\t\t\t\t\tWesterbrink 1<br/>\n",
       "\t\t\t\t\t9405 BJ Assen\n",
       "\t\t\t\t</td>"
      ]
     },
     "execution_count": 19,
     "metadata": {},
     "output_type": "execute_result"
    }
   ],
   "source": [
    "# check het bezoekadres\n",
    "bezoekadres"
   ]
  },
  {
   "cell_type": "code",
   "execution_count": 20,
   "metadata": {},
   "outputs": [],
   "source": [
    "# dat is meer dan we willen, geef alleen de tekst computer...\n",
    "bezoekadres = tabel1.find_all('td')[0].get_text()"
   ]
  },
  {
   "cell_type": "code",
   "execution_count": 21,
   "metadata": {},
   "outputs": [
    {
     "data": {
      "text/plain": [
       "'\\n\\t\\t\\t\\t\\tWesterbrink 1\\n\\t\\t\\t\\t\\t9405 BJ Assen\\n\\t\\t\\t\\t'"
      ]
     },
     "execution_count": 21,
     "metadata": {},
     "output_type": "execute_result"
    }
   ],
   "source": [
    "# controleer het bezoekadres\n",
    "bezoekadres"
   ]
  },
  {
   "cell_type": "code",
   "execution_count": 22,
   "metadata": {},
   "outputs": [],
   "source": [
    "# strip de tekst van onzin rondom het bezoekadres zelf, computer...\n",
    "bezoekadres = tabel1.find_all('td')[0].get_text().strip()"
   ]
  },
  {
   "cell_type": "code",
   "execution_count": 23,
   "metadata": {},
   "outputs": [
    {
     "data": {
      "text/plain": [
       "'Westerbrink 1\\n\\t\\t\\t\\t\\t9405 BJ Assen'"
      ]
     },
     "execution_count": 23,
     "metadata": {},
     "output_type": "execute_result"
    }
   ],
   "source": [
    "# controleer het bezoekadres\n",
    "bezoekadres"
   ]
  },
  {
   "cell_type": "code",
   "execution_count": 24,
   "metadata": {},
   "outputs": [],
   "source": [
    "# beter, maar nog niet helemaal... laten we alle \\t vervangen met niets\n",
    "bezoekadres = tabel1.find_all('td')[0].get_text().strip().replace('\\t','')"
   ]
  },
  {
   "cell_type": "code",
   "execution_count": 25,
   "metadata": {},
   "outputs": [
    {
     "data": {
      "text/plain": [
       "'Westerbrink 1\\n9405 BJ Assen'"
      ]
     },
     "execution_count": 25,
     "metadata": {},
     "output_type": "execute_result"
    }
   ],
   "source": [
    "# controleer het bezoekadres\n",
    "bezoekadres"
   ]
  },
  {
   "cell_type": "code",
   "execution_count": 26,
   "metadata": {},
   "outputs": [],
   "source": [
    "# als we de \\n vervangen met een spatie, dan zijn we er wel...\n",
    "bezoekadres = tabel1.find_all('td')[0].get_text().strip().replace('\\t','').replace('\\n', ' ')"
   ]
  },
  {
   "cell_type": "code",
   "execution_count": 27,
   "metadata": {},
   "outputs": [
    {
     "data": {
      "text/plain": [
       "'Westerbrink 1 9405 BJ Assen'"
      ]
     },
     "execution_count": 27,
     "metadata": {},
     "output_type": "execute_result"
    }
   ],
   "source": [
    "# controleer het bezoekadres\n",
    "bezoekadres"
   ]
  },
  {
   "cell_type": "markdown",
   "metadata": {},
   "source": [
    "Ik wil het bezoekadres opsplitsen in straat + nummer; postcode; en plaats. Dat ga ik doen met behulp van `re.search(regex, input)` en `.group()`. Ik verdeel het bezoekadres (een groep in een regex staat tussen`(` en `)`) in 3 groepen (straat + nummer; postcode; plaats), en gebruik `.group()` om steeds 1 van die groepen te selecteren. \n",
    "\n",
    "De reguliere expressie die ik hiervoor gebruik ziet er zo uit: *(.*)\\s([0-9]{4,4}\\s[A-Z]+)\\s(.*)*\n",
    "\n",
    "Je kunt dit testen door het bezoekadres 'Spiekersteeg 1 9461 BH GIETEN' in te vullen op [https://regex101.com](https://regex101.com).\n",
    "\n",
    "Het adres deel van het bezoekadres ga ik opslaan onder variabele baAdres (bezoek adres adres)."
   ]
  },
  {
   "cell_type": "code",
   "execution_count": 28,
   "metadata": {},
   "outputs": [
    {
     "data": {
      "text/plain": [
       "'Westerbrink 1'"
      ]
     },
     "execution_count": 28,
     "metadata": {},
     "output_type": "execute_result"
    }
   ],
   "source": [
    "# gebruik regex search om deze regex te vinden in het bezoekadres; geef daarna alleen de 1e groep terug.\n",
    "re.search(r'(.*)\\s([0-9]{4,4}\\s[A-Z]+)\\s(.*)', bezoekadres).group(1)"
   ]
  },
  {
   "cell_type": "code",
   "execution_count": 29,
   "metadata": {},
   "outputs": [],
   "source": [
    "# deze info opslaan naar variabele baAdres\n",
    "baAdres = re.search(r'(.*)\\s([0-9]{4,4}\\s[A-Z]+)\\s(.*)', bezoekadres).group(1)"
   ]
  },
  {
   "cell_type": "code",
   "execution_count": 30,
   "metadata": {},
   "outputs": [
    {
     "data": {
      "text/plain": [
       "'Westerbrink 1'"
      ]
     },
     "execution_count": 30,
     "metadata": {},
     "output_type": "execute_result"
    }
   ],
   "source": [
    "# check\n",
    "baAdres"
   ]
  },
  {
   "cell_type": "markdown",
   "metadata": {},
   "source": [
    "Vooraf wist ik al dat ik niet alleen het adres van het bezoekadres apart wilde hebben, maar ook de postcode en de plaats. Daarom had ik in mijn regex direct 3 groepen gemaakt, *(.*)\\s([0-9]{4,4}\\s[A-Z]+)\\s(.*)*. \n",
    "\n",
    "Nu kan ik mijn regex-code dus hergebruiken, ik moet alleen het groep-nummer aanpassen."
   ]
  },
  {
   "cell_type": "code",
   "execution_count": 31,
   "metadata": {},
   "outputs": [
    {
     "data": {
      "text/plain": [
       "'9405 BJ'"
      ]
     },
     "execution_count": 31,
     "metadata": {},
     "output_type": "execute_result"
    }
   ],
   "source": [
    "# gebruik re.search om het bezoekadres te doorzoeken; selecteer de tweede groep\n",
    "re.search(r'(.*)\\s([0-9]{4,4}\\s[A-Z]+)\\s(.*)', bezoekadres).group(2)"
   ]
  },
  {
   "cell_type": "code",
   "execution_count": 32,
   "metadata": {},
   "outputs": [],
   "source": [
    "# postcode opslaan naar variabele\n",
    "baPostcode = re.search(r'(.*)\\s([0-9]{4,4}\\s[A-Z]+)\\s(.*)', bezoekadres).group(2)"
   ]
  },
  {
   "cell_type": "code",
   "execution_count": 33,
   "metadata": {},
   "outputs": [
    {
     "data": {
      "text/plain": [
       "'9405 BJ'"
      ]
     },
     "execution_count": 33,
     "metadata": {},
     "output_type": "execute_result"
    }
   ],
   "source": [
    "# check\n",
    "baPostcode"
   ]
  },
  {
   "cell_type": "code",
   "execution_count": 34,
   "metadata": {},
   "outputs": [
    {
     "data": {
      "text/plain": [
       "'Assen'"
      ]
     },
     "execution_count": 34,
     "metadata": {},
     "output_type": "execute_result"
    }
   ],
   "source": [
    "# gebruik re.search om het bezoekadres te doorzoeken; selecteer de derde groep\n",
    "re.search(r'(.*)\\s([0-9]{4,4}\\s[A-Z]+)\\s(.*)', bezoekadres).group(3)"
   ]
  },
  {
   "cell_type": "code",
   "execution_count": 35,
   "metadata": {},
   "outputs": [],
   "source": [
    "# postcode opslaan naar variabele\n",
    "baPlaats = re.search(r'(.*)\\s([0-9]{4,4}\\s[A-Z]+)\\s(.*)', bezoekadres).group(3)"
   ]
  },
  {
   "cell_type": "code",
   "execution_count": 36,
   "metadata": {},
   "outputs": [
    {
     "data": {
      "text/plain": [
       "'Assen'"
      ]
     },
     "execution_count": 36,
     "metadata": {},
     "output_type": "execute_result"
    }
   ],
   "source": [
    "# check\n",
    "baPlaats"
   ]
  },
  {
   "cell_type": "markdown",
   "metadata": {},
   "source": [
    "Vervolgens doe ik precies hetzelfde voor het postadres: in tabel1 zoek ik naar naar de tweede *table data* (`.find_all('td')[1]`); en daarna splits ik het postadres op in paAdres, paPostcode en paPlaats (`re.search(r'(.*)\\s([0-9]{4,4}\\s[A-Z]+)\\s(.*)', postadres)`). \n",
    "\n",
    "Omdat ik wil dat de computer ook doorgaat als er iets niet lukt gebruik ik `try` en `except`. Daarmee zeg ik tegen de computer 'probeer dit te doen (opdracht na `try`), maar mocht dat nou niet lukken doe dan dit (alternatieve opdracht na `except`)'. \n",
    "\n",
    "Goed om te weten: `None` is computerjargon voor 'niets' of een lege cel. Door `None` te gebruiken weet ik zeker dat de computer het wel geprobeerd heeft en mijn programmaatje wel werkte, maar dat het om een of andere reden toch niet gelukt is."
   ]
  },
  {
   "cell_type": "code",
   "execution_count": 37,
   "metadata": {},
   "outputs": [],
   "source": [
    "# probeer het postadres uit tabel 1 te halen:\n",
    "# navigeer naar 2e td, haal tekst eruit, strip spaties etc., vervang \\t en \\n\n",
    "try:\n",
    "    postadres = tabel1.find_all('td')[1].get_text().strip().replace('\\t','').replace('\\n', ' ')\n",
    "except:\n",
    "    postadres = None\n",
    "# opsplitsen van postadres in paAdres, paPostcode en paPlaats\n",
    "try:\n",
    "    paAdres = re.search(r'(.*)\\s([0-9]{4,4}\\s[A-Z]+)\\s(.*)', postadres).group(1)\n",
    "except:\n",
    "    paAdres = None\n",
    "try:\n",
    "    paPostcode = re.search(r'(.*)\\s([0-9]{4,4}\\s[A-Z]+)\\s(.*)', postadres).group(2)\n",
    "except:\n",
    "    paPostcode = None\n",
    "try:\n",
    "    paPlaats = re.search(r'(.*)\\s([0-9]{4,4}\\s[A-Z]+)\\s(.*)', postadres).group(3)\n",
    "except:\n",
    "    paPlaats = None"
   ]
  },
  {
   "cell_type": "code",
   "execution_count": 38,
   "metadata": {},
   "outputs": [
    {
     "name": "stdout",
     "output_type": "stream",
     "text": [
      "Postbus 122 9400 AC Assen\n",
      "Postbus 122\n",
      "9400 AC\n",
      "Assen\n"
     ]
    }
   ],
   "source": [
    "# te controle print ik de variablen...\n",
    "print(postadres)\n",
    "print(paAdres)\n",
    "print(paPostcode)\n",
    "print(paPlaats)"
   ]
  },
  {
   "cell_type": "markdown",
   "metadata": {},
   "source": [
    "Verder wil ik uit tabel1 nog het telefoonnummer en de site halen..."
   ]
  },
  {
   "cell_type": "code",
   "execution_count": 39,
   "metadata": {},
   "outputs": [],
   "source": [
    "# probeer td 3 te vinden met het telefoonnummer in\n",
    "# door try en except te gebruiken, gaat de computer verder ook als het niet lukt...\n",
    "try:\n",
    "    # ik strip het telefoonnummer meteen van alle niet haken en (algemeen) etc...\n",
    "    telefoon = tabel1.find_all('td')[2].get_text().strip().replace(' (algemeen)', '').replace('(', '').replace(')','')\n",
    "except:\n",
    "    telefoon = None"
   ]
  },
  {
   "cell_type": "code",
   "execution_count": 40,
   "metadata": {},
   "outputs": [
    {
     "name": "stdout",
     "output_type": "stream",
     "text": [
      "0592 36 55 55\n"
     ]
    }
   ],
   "source": [
    "# controle\n",
    "print(telefoon)"
   ]
  },
  {
   "cell_type": "markdown",
   "metadata": {},
   "source": [
    "Niet alle provincies hebben een fax-nummer. Dus zeggen 'ga naar de vierde cel, en neem de inhoud daarvan, dat is het faxnummer', gaat niet werken. In sommige gevallen zal het kloppen, maar de kans bestaat dat het geen faxnummer is maar een website...\n",
    "\n",
    "Daarom kunnen we dus niet navigeren door te tellen. Kijk naar de broncode om te zien hoe we wel kunnen navigeren: "
   ]
  },
  {
   "cell_type": "code",
   "execution_count": 41,
   "metadata": {},
   "outputs": [
    {
     "data": {
      "text/plain": [
       "<table class=\"table__data-overview\" data-roo-element=\"element-adresgegevens\">\n",
       "<tr>\n",
       "<th scope=\"row\">Bezoekadres</th>\n",
       "<td data-before=\"Bezoekadres\">\n",
       "\t\t\t\t\tWesterbrink 1<br/>\n",
       "\t\t\t\t\t9405 BJ Assen\n",
       "\t\t\t\t</td>\n",
       "</tr>\n",
       "<tr>\n",
       "<th scope=\"row\">Postadres</th>\n",
       "<td data-before=\"Postadres\">\n",
       "\t\t\t\t\t\n",
       "\t\t\t\t\tPostbus 122<br/>\n",
       "\t\t\t\t\t9400 AC Assen\n",
       "\t\t\t\t</td>\n",
       "</tr>\n",
       "<tr>\n",
       "<th scope=\"row\">Telefoon</th>\n",
       "<td data-before=\"Telefoon\">\n",
       "\t\t\t\t\t\t(0592) 36 55 55 (algemeen)\n",
       "\t\t\t\t\t\t\n",
       "\t\t\t\t\t\t\n",
       "\t\t\t\t\t\t\n",
       "\t\t\t\t\t</td>\n",
       "</tr>\n",
       "<tr>\n",
       "<th scope=\"row\">Fax</th>\n",
       "<td data-before=\"Fax\">(0592) 36 57 77</td>\n",
       "</tr>\n",
       "<tr>\n",
       "<th scope=\"row\">Internet</th>\n",
       "<td data-before=\"Internet\">\n",
       "<a href=\"http://www.provincie.drenthe.nl\">http://www.provincie.drenthe.nl</a>\n",
       "\t\t\t\t\t\t (algemeen)\n",
       "\t\t\t\t\t\t\n",
       "\t\t\t\t\t\t\n",
       "\t\t\t\t\t</td>\n",
       "</tr>\n",
       "<tr>\n",
       "<th scope=\"row\">E-mail</th>\n",
       "<td data-before=\"E-mail\">\n",
       "<a href=\"mailto:post@drenthe.nl\">post@drenthe.nl</a>\n",
       "\t\t\t\t\t\t (algemeen)\n",
       "\t\t\t\t\t\t\n",
       "\t\t\t\t\t\t\n",
       "\t\t\t\t\t</td>\n",
       "</tr>\n",
       "</table>"
      ]
     },
     "execution_count": 41,
     "metadata": {},
     "output_type": "execute_result"
    }
   ],
   "source": [
    "tabel1"
   ]
  },
  {
   "cell_type": "markdown",
   "metadata": {},
   "source": [
    "Uniek voor de cel met het faxnummer er in, is `<td data-before=\"Fax\">` voor het faxnummer. Bij geen enkele andere cel is de data-before 'Fax'. Een prima selectiecriterium dus."
   ]
  },
  {
   "cell_type": "code",
   "execution_count": 42,
   "metadata": {},
   "outputs": [
    {
     "data": {
      "text/plain": [
       "<td data-before=\"Fax\">(0592) 36 57 77</td>"
      ]
     },
     "execution_count": 42,
     "metadata": {},
     "output_type": "execute_result"
    }
   ],
   "source": [
    "# we zoeken nu alleen in tabel1 btw..\n",
    "# verder zijn we op zoek naar een td\n",
    "# we voegen alleen - in de vorm van een dictionary - de eigenschap toe waarop we willen selecteren\n",
    "# een dictionary in Python ziet er zo uit: {\"data-before\": \"Fax\"}\n",
    "tabel1.find('td', {\"data-before\": \"Fax\"})"
   ]
  },
  {
   "cell_type": "code",
   "execution_count": 43,
   "metadata": {},
   "outputs": [
    {
     "data": {
      "text/plain": [
       "'(0592) 36 57 77'"
      ]
     },
     "execution_count": 43,
     "metadata": {},
     "output_type": "execute_result"
    }
   ],
   "source": [
    "# we willen natuurlijk alleen de tekst:\n",
    "tabel1.find('td', {\"data-before\": \"Fax\"}).get_text()"
   ]
  },
  {
   "cell_type": "code",
   "execution_count": 44,
   "metadata": {},
   "outputs": [
    {
     "data": {
      "text/plain": [
       "'0592 36 57 77'"
      ]
     },
     "execution_count": 44,
     "metadata": {},
     "output_type": "execute_result"
    }
   ],
   "source": [
    "# laten we de haakjes eruit halen door ze te vervangen met niets\n",
    "tabel1.find('td', {\"data-before\": \"Fax\"}).get_text().replace('(', '').replace(')','')"
   ]
  },
  {
   "cell_type": "code",
   "execution_count": 45,
   "metadata": {},
   "outputs": [],
   "source": [
    "# en nu nog even opslaan naar een variabele...\n",
    "fax = tabel1.find('td', {\"data-before\": \"Fax\"}).get_text().replace('(', '').replace(')','')"
   ]
  },
  {
   "cell_type": "markdown",
   "metadata": {},
   "source": [
    "Nu je weet hoe dit werkt, kun je dit natuurlijk ook gebruiken voor de site en mailadres. \n",
    "Je weet namelijk nooit zeker of dat de 5e, 6e of 7e cel is - dat is afhankelijk van een faxadres dat er\n",
    "misschien wel, misschien niet in staat...\n"
   ]
  },
  {
   "cell_type": "code",
   "execution_count": 46,
   "metadata": {},
   "outputs": [
    {
     "data": {
      "text/plain": [
       "<table class=\"table__data-overview\" data-roo-element=\"element-adresgegevens\">\n",
       "<tr>\n",
       "<th scope=\"row\">Bezoekadres</th>\n",
       "<td data-before=\"Bezoekadres\">\n",
       "\t\t\t\t\tWesterbrink 1<br/>\n",
       "\t\t\t\t\t9405 BJ Assen\n",
       "\t\t\t\t</td>\n",
       "</tr>\n",
       "<tr>\n",
       "<th scope=\"row\">Postadres</th>\n",
       "<td data-before=\"Postadres\">\n",
       "\t\t\t\t\t\n",
       "\t\t\t\t\tPostbus 122<br/>\n",
       "\t\t\t\t\t9400 AC Assen\n",
       "\t\t\t\t</td>\n",
       "</tr>\n",
       "<tr>\n",
       "<th scope=\"row\">Telefoon</th>\n",
       "<td data-before=\"Telefoon\">\n",
       "\t\t\t\t\t\t(0592) 36 55 55 (algemeen)\n",
       "\t\t\t\t\t\t\n",
       "\t\t\t\t\t\t\n",
       "\t\t\t\t\t\t\n",
       "\t\t\t\t\t</td>\n",
       "</tr>\n",
       "<tr>\n",
       "<th scope=\"row\">Fax</th>\n",
       "<td data-before=\"Fax\">(0592) 36 57 77</td>\n",
       "</tr>\n",
       "<tr>\n",
       "<th scope=\"row\">Internet</th>\n",
       "<td data-before=\"Internet\">\n",
       "<a href=\"http://www.provincie.drenthe.nl\">http://www.provincie.drenthe.nl</a>\n",
       "\t\t\t\t\t\t (algemeen)\n",
       "\t\t\t\t\t\t\n",
       "\t\t\t\t\t\t\n",
       "\t\t\t\t\t</td>\n",
       "</tr>\n",
       "<tr>\n",
       "<th scope=\"row\">E-mail</th>\n",
       "<td data-before=\"E-mail\">\n",
       "<a href=\"mailto:post@drenthe.nl\">post@drenthe.nl</a>\n",
       "\t\t\t\t\t\t (algemeen)\n",
       "\t\t\t\t\t\t\n",
       "\t\t\t\t\t\t\n",
       "\t\t\t\t\t</td>\n",
       "</tr>\n",
       "</table>"
      ]
     },
     "execution_count": 46,
     "metadata": {},
     "output_type": "execute_result"
    }
   ],
   "source": [
    "# even kijken wat er uniek is aan mailadres en website...\n",
    "tabel1"
   ]
  },
  {
   "cell_type": "code",
   "execution_count": 47,
   "metadata": {},
   "outputs": [
    {
     "data": {
      "text/plain": [
       "<td data-before=\"E-mail\">\n",
       "<a href=\"mailto:post@drenthe.nl\">post@drenthe.nl</a>\n",
       "\t\t\t\t\t\t (algemeen)\n",
       "\t\t\t\t\t\t\n",
       "\t\t\t\t\t\t\n",
       "\t\t\t\t\t</td>"
      ]
     },
     "execution_count": 47,
     "metadata": {},
     "output_type": "execute_result"
    }
   ],
   "source": [
    "# we zoeken in tabel1 naar een td, met als data-before eigenschap E-mail\n",
    "tabel1.find('td', {\"data-before\": \"E-mail\"})"
   ]
  },
  {
   "cell_type": "code",
   "execution_count": 48,
   "metadata": {},
   "outputs": [
    {
     "data": {
      "text/plain": [
       "<a href=\"mailto:post@drenthe.nl\">post@drenthe.nl</a>"
      ]
     },
     "execution_count": 48,
     "metadata": {},
     "output_type": "execute_result"
    }
   ],
   "source": [
    "# we willen alleen de link\n",
    "tabel1.find('td', {\"data-before\": \"E-mail\"}).find('a')"
   ]
  },
  {
   "cell_type": "code",
   "execution_count": 49,
   "metadata": {},
   "outputs": [
    {
     "data": {
      "text/plain": [
       "'mailto:post@drenthe.nl'"
      ]
     },
     "execution_count": 49,
     "metadata": {},
     "output_type": "execute_result"
    }
   ],
   "source": [
    "# we willen natuurlijk alleen de link waar we naar verwezen worden als we op de link klikken\n",
    "# deze link staat bij href=\"\"; de klikbare tekst die je ziet (had ook 'mail naar Drenthe' kunnen zijn)\n",
    "# staat tussen > en </a>; de klikbare tekst en de werkelijke link zijn niet altijd hetzelfde\n",
    "# zoals hier het geval is, dus ga ik voor de zekerheid altijd voor de href-url\n",
    "tabel1.find('td', {\"data-before\": \"E-mail\"}).find('a')['href']"
   ]
  },
  {
   "cell_type": "code",
   "execution_count": 50,
   "metadata": {},
   "outputs": [
    {
     "data": {
      "text/plain": [
       "'post@drenthe.nl'"
      ]
     },
     "execution_count": 50,
     "metadata": {},
     "output_type": "execute_result"
    }
   ],
   "source": [
    "# nu nog mailto: vervangen met niets...\n",
    "tabel1.find('td', {\"data-before\": \"E-mail\"}).find('a')['href'].replace('mailto:', '')"
   ]
  },
  {
   "cell_type": "code",
   "execution_count": 51,
   "metadata": {},
   "outputs": [],
   "source": [
    "# en opslaan naar een variabele \n",
    "email = tabel1.find('td', {\"data-before\": \"E-mail\"}).find('a')['href'].replace('mailto:', '')"
   ]
  },
  {
   "cell_type": "code",
   "execution_count": 52,
   "metadata": {},
   "outputs": [
    {
     "data": {
      "text/plain": [
       "'post@drenthe.nl'"
      ]
     },
     "execution_count": 52,
     "metadata": {},
     "output_type": "execute_result"
    }
   ],
   "source": [
    "# als je het opslaat als variabele, wordt er niets meer geprint. \n",
    "# als check zou je dit kunnen doen:\n",
    "email"
   ]
  },
  {
   "cell_type": "code",
   "execution_count": 53,
   "metadata": {},
   "outputs": [
    {
     "data": {
      "text/plain": [
       "<td data-before=\"Internet\">\n",
       "<a href=\"http://www.provincie.drenthe.nl\">http://www.provincie.drenthe.nl</a>\n",
       "\t\t\t\t\t\t (algemeen)\n",
       "\t\t\t\t\t\t\n",
       "\t\t\t\t\t\t\n",
       "\t\t\t\t\t</td>"
      ]
     },
     "execution_count": 53,
     "metadata": {},
     "output_type": "execute_result"
    }
   ],
   "source": [
    "# laten we hetzelfde doen voor de website\n",
    "tabel1.find('td', {\"data-before\": \"Internet\"})"
   ]
  },
  {
   "cell_type": "code",
   "execution_count": 54,
   "metadata": {},
   "outputs": [
    {
     "data": {
      "text/plain": [
       "<a href=\"http://www.provincie.drenthe.nl\">http://www.provincie.drenthe.nl</a>"
      ]
     },
     "execution_count": 54,
     "metadata": {},
     "output_type": "execute_result"
    }
   ],
   "source": [
    "# we willen alleen de link\n",
    "tabel1.find('td', {\"data-before\": \"Internet\"}).find('a')"
   ]
  },
  {
   "cell_type": "code",
   "execution_count": 55,
   "metadata": {},
   "outputs": [
    {
     "data": {
      "text/plain": [
       "'http://www.provincie.drenthe.nl'"
      ]
     },
     "execution_count": 55,
     "metadata": {},
     "output_type": "execute_result"
    }
   ],
   "source": [
    "# we willen natuurlijk alleen de link waar we naar verwezen worden als we op de link klikken\n",
    "# deze link staat bij href=\"\"; de klikbare tekst die je ziet (had ook 'mail naar Drenthe' kunnen zijn)\n",
    "# staat tussen > en </a>; de klikbare tekst en de werkelijke link zijn niet altijd hetzelfde\n",
    "# zoals hier het geval is, dus ga ik voor de zekerheid altijd voor de href-url\n",
    "tabel1.find('td', {\"data-before\": \"Internet\"}).find('a')['href']"
   ]
  },
  {
   "cell_type": "code",
   "execution_count": 56,
   "metadata": {},
   "outputs": [],
   "source": [
    "# en opslaan naar een variabele \n",
    "website = tabel1.find('td', {\"data-before\": \"Internet\"}).find('a')['href']"
   ]
  },
  {
   "cell_type": "code",
   "execution_count": 57,
   "metadata": {},
   "outputs": [
    {
     "data": {
      "text/plain": [
       "'http://www.provincie.drenthe.nl'"
      ]
     },
     "execution_count": 57,
     "metadata": {},
     "output_type": "execute_result"
    }
   ],
   "source": [
    "# als je het opslaat als variabele, wordt er niets meer geprint. \n",
    "# als check zou je dit kunnen doen:\n",
    "website"
   ]
  },
  {
   "cell_type": "markdown",
   "metadata": {},
   "source": [
    "We zouden zomaar het belangrijkste vergeten... Waar halen we de provincienaam vandaan? \n",
    "\n",
    "Ik ga met een regex de naam uit de url halen... Komtie:"
   ]
  },
  {
   "cell_type": "code",
   "execution_count": 58,
   "metadata": {},
   "outputs": [
    {
     "data": {
      "text/plain": [
       "'/14557/Provincie_Drenthe'"
      ]
     },
     "execution_count": 58,
     "metadata": {},
     "output_type": "execute_result"
    }
   ],
   "source": [
    "# print een url zodat ik weet waar ik mee moet werken\n",
    "urls[0]"
   ]
  },
  {
   "cell_type": "markdown",
   "metadata": {},
   "source": [
    "Op basis van wat ik hier zie, denk ik nu: selecteer alles na 'Provincie_'. Dat leidt tot de volgende regex 'Provincie\\_(.*)'. Te testen op [regex101.com](http://regex101.com)"
   ]
  },
  {
   "cell_type": "code",
   "execution_count": 59,
   "metadata": {},
   "outputs": [],
   "source": [
    "provincienaam = re.search(r'Provincie\\_(.*)', urls[0]).group(1)"
   ]
  },
  {
   "cell_type": "code",
   "execution_count": 60,
   "metadata": {},
   "outputs": [
    {
     "data": {
      "text/plain": [
       "'Drenthe'"
      ]
     },
     "execution_count": 60,
     "metadata": {},
     "output_type": "execute_result"
    }
   ],
   "source": [
    "# print provincienaam als check\n",
    "provincienaam"
   ]
  },
  {
   "cell_type": "code",
   "execution_count": 63,
   "metadata": {},
   "outputs": [
    {
     "name": "stdout",
     "output_type": "stream",
     "text": [
      "Drenthe\n",
      "Flevoland\n",
      "Fryslan\n",
      "Gelderland\n",
      "Groningen\n",
      "Limburg\n",
      "Noord-Brabant\n",
      "Noord-Holland\n",
      "Overijssel\n",
      "Utrecht\n",
      "Zeeland\n",
      "Zuid-Holland\n"
     ]
    }
   ],
   "source": [
    "# check of het met alle urls werkt...\n",
    "# voor elk item (i) in de lijst urls\n",
    "for i in urls:\n",
    "    # selecteer de provincienaam - omdat we niet meer testen gebruik ik i ipv urls[0]\n",
    "    provincienaam = re.search(r'Provincie\\_(.*)', i).group(1)\n",
    "    # als check wil ik de provincienaam geprint hebben, dan kan ik zien of het werkt\n",
    "    print(provincienaam)"
   ]
  },
  {
   "cell_type": "markdown",
   "metadata": {},
   "source": [
    "Nu ga ik al deze onderdelen samenvoegen in een for-loop. Met deze for-loop zeg ik eigenlijk tegen de computer: voor elke link in het lijstje urls, vraag de pagina op, en verzamel al deze informatie.\n",
    "\n",
    "Het grootste deel van de code hieronder heb je al eerder gezien, dus geen reden om te schrikken. :) "
   ]
  },
  {
   "cell_type": "code",
   "execution_count": 64,
   "metadata": {},
   "outputs": [
    {
     "name": "stdout",
     "output_type": "stream",
     "text": [
      "('Drenthe', 'Westerbrink 1', '9405 BJ', 'Assen', 'Postbus 122', '9400 AC', 'Assen', '0592 36 55 55', '0592 36 57 77', 'post@drenthe.nl', 'http://www.provincie.drenthe.nl')\n",
      "('Flevoland', 'Visarenddreef 1', '8232 PH', 'Lelystad', 'Postbus 55', '8200 AB', 'Lelystad', '0320 265 265', '0320 26 52 60', 'provincie@flevoland.nl', 'http://www.flevoland.nl')\n"
     ]
    }
   ],
   "source": [
    "# voor elk item (i) in de lijst urls... \n",
    "# let op, om te testen beperk ik de lijst tot de 1e twee items\n",
    "# [:2] betekent alle items in de lijst tot (NIET tot en met, dus EXCLUSIEF) item 2\n",
    "# omdat computer vanaf 0 tellen, levert dit 2 resultaten op: item 0 en item 1 exclusief item 2\n",
    "for i in urls[:2]:\n",
    "    # probeer...\n",
    "    try:\n",
    "        # de provincienaam uit de url te selecteren\n",
    "        provincienaam = re.search(r'Provincie\\_(.*)', i).group(1)\n",
    "    # als dat niet lukt...\n",
    "    except:\n",
    "        # laat de variabele provincienaam dan leeg\n",
    "        provincienaam = None\n",
    "    # vraag de pagina op, let op de url maak ik ter plekke\n",
    "    r = requests.get('https://almanak.overheid.nl'+i)\n",
    "    # als het opvragen van de pagina gelukt is...\n",
    "    if r.status_code == 200:\n",
    "        soup = BeautifulSoup(r.content, 'html.parser')\n",
    "        # probeer...\n",
    "        try:\n",
    "            #  ...de 1e tabel uit de soep te halen\n",
    "            tabel1 = soup.find('table')\n",
    "        # als dat niet lukt...\n",
    "        except:\n",
    "            # ...print dan de volgende foutmelding\n",
    "            print('Tabel1 niet gevonden - dus niets zal gaan werken :(')\n",
    "        # probeer...\n",
    "        try:\n",
    "            # ...het bezoekadres uit de tabel1 te halen\n",
    "            bezoekadres = tabel1.find_all('td')[0].get_text().strip().replace('\\t','').replace('\\n', ' ')\n",
    "        # als dat niet lukt...\n",
    "        except:\n",
    "            # ...maak het bezoekadres dan 'None', which is programmers speak for leave it empty\n",
    "            bezoekadres = None\n",
    "        # probeer...\n",
    "        try:\n",
    "            # het bezoekadres op te splitsen in adres met een regex\n",
    "            baAdres = re.search(r'(.*)\\s([0-9]{4,4}\\s[A-Z]+)\\s(.*)', bezoekadres).group(1)\n",
    "        # als dat niet lukt...\n",
    "        except:\n",
    "            # ...maak het baAdres dan 'None'\n",
    "            baAdres = None\n",
    "        # probeer...\n",
    "        try:\n",
    "            # ...baPostcode te selecteren uit het bezoekadres met een regex\n",
    "            baPostcode = re.search(r'(.*)\\s([0-9]{4,4}\\s[A-Z]+)\\s(.*)', bezoekadres).group(2)\n",
    "        # als dat niet lukt...\n",
    "        except:\n",
    "            # ...maak baPostcode dan None\n",
    "            baPostcode = None\n",
    "        # probeer...\n",
    "        try:\n",
    "            # ...baPlaats te selecteren uit het bezoekadres met een regex\n",
    "            baPlaats = re.search(r'(.*)\\s([0-9]{4,4}\\s[A-Z]+)\\s(.*)', bezoekadres).group(3)\n",
    "        # als dat niet lukt...\n",
    "        except:\n",
    "            # ... maak baPlaats dan None\n",
    "            baPlaats = None\n",
    "        # herhaal bovenstaande, maar dan voor het postadres. Stap 1: selecter het postadres\n",
    "        try:\n",
    "            postadres = tabel1.find_all('td')[1].get_text().strip().replace('\\t','').replace('\\n', ' ')\n",
    "        except:\n",
    "            postadres = None\n",
    "        # Stap 2: het opsplitsen van postadres in paAdres, paPostcode en paPlaats\n",
    "        try:\n",
    "            paAdres = re.search(r'(.*)\\s([0-9]{4,4}\\s[A-Z]+)\\s(.*)', postadres).group(1)\n",
    "        except:\n",
    "            paAdres = None\n",
    "        try:\n",
    "            paPostcode = re.search(r'(.*)\\s([0-9]{4,4}\\s[A-Z]+)\\s(.*)', postadres).group(2)\n",
    "        except:\n",
    "            paPostcode = None\n",
    "        try:\n",
    "            paPlaats = re.search(r'(.*)\\s([0-9]{4,4}\\s[A-Z]+)\\s(.*)', postadres).group(3)\n",
    "        except:\n",
    "            paPlaats = None\n",
    "        # probeer het telefoonnummer op te halen\n",
    "        try:\n",
    "            telefoon = tabel1.find_all('td')[2].get_text().strip().replace(' (algemeen)', '').replace('(', '').replace(')','')\n",
    "        except:\n",
    "            telefoon = None\n",
    "        # probeer het faxnummer op te halen\n",
    "        try:\n",
    "            fax = tabel1.find('td', {\"data-before\": \"Fax\"}).get_text().replace('(', '').replace(')','')\n",
    "        except:\n",
    "            fax = None\n",
    "        # probeer het mailadres op te halen\n",
    "        try:\n",
    "            email = tabel1.find('td', {\"data-before\": \"E-mail\"}).find('a')['href'].replace('mailto:', '')\n",
    "        except:\n",
    "            email = None\n",
    "        # probeer de website op te halen\n",
    "        try:\n",
    "            website = tabel1.find('td', {\"data-before\": \"Internet\"}).find('a')['href']\n",
    "        except:\n",
    "            website = None\n",
    "        # verzamel alle informatie in 1 variabele\n",
    "        data = (provincienaam, baAdres, baPostcode, baPlaats, paAdres, paPostcode, paPlaats, telefoon, fax, email, website)\n",
    "        print(data)      \n",
    "    # als het opvragen van de pagina niet gelukt is...\n",
    "    else:\n",
    "        # print feedback zodat ik kan zien waar het fout ging\n",
    "        print('https://almanak.overheid.nl'+i+' opvragen is niet gelukt...')"
   ]
  },
  {
   "cell_type": "markdown",
   "metadata": {},
   "source": [
    "Het enige dat ik nu nog moet doen, is zorgen dat de resultaten naar een CSV-bestand worden geschreven. Daarvoor voeg ik aan het begin en aan het einde een klein beetje code toe. \n",
    "\n",
    "Hieronder het eindresultaat: een scraper die data opslaat in een csv. :) "
   ]
  },
  {
   "cell_type": "code",
   "execution_count": 65,
   "metadata": {},
   "outputs": [
    {
     "name": "stdout",
     "output_type": "stream",
     "text": [
      "('Drenthe', 'Westerbrink 1', '9405 BJ', 'Assen', 'Postbus 122', '9400 AC', 'Assen', '0592 36 55 55', '0592 36 57 77', 'post@drenthe.nl', 'http://www.provincie.drenthe.nl')\n",
      "('Flevoland', 'Visarenddreef 1', '8232 PH', 'Lelystad', 'Postbus 55', '8200 AB', 'Lelystad', '0320 265 265', '0320 26 52 60', 'provincie@flevoland.nl', 'http://www.flevoland.nl')\n",
      "('Fryslan', 'Tweebaksmarkt 52', '8911 KZ', 'Leeuwarden', 'Postbus 20120', '8900 HM', 'Leeuwarden', '058 292 59 25', '058 292 51 25', 'provincie@fryslan.frl', 'https://www.fryslan.frl')\n",
      "('Gelderland', 'Markt 11', '6811 CG', 'Arnhem', 'Postbus  9090 ', '6800 GX', 'Arnhem', '0263599999', None, 'provincieloket@gelderland.nl', 'http://www.gelderland.nl')\n",
      "('Groningen', 'Martinikerkhof 12', '9712 JG', 'Groningen', 'Postbus 610', '9700 AP', 'Groningen', '0503164911', '050 316 49  33', 'info@provinciegroningen.nl', 'http://www.provinciegroningen.nl')\n",
      "('Limburg', 'Limburglaan 10', '6229 GA', 'Maastricht', 'Postbus 5700', '6202 MA', 'Maastricht', '043 389 99 99', '043 361 80 99', 'postbus@prvlimburg.nl', 'http://www.limburg.nl')\n",
      "('Noord-Brabant', 'Brabantlaan 1', '5216 TV', \"'s-Hertogenbosch\", 'Postbus 90151', '5200 MC', \"'s-Hertogenbosch\", '073 681 28 12', '073 614 11 15', 'info@brabant.nl', 'http://www.brabant.nl')\n",
      "('Noord-Holland', 'Houtplein 33', '2012 DE', 'Haarlem', 'Postbus 3007', '2001 DA', 'Haarlem', '0235143143', None, 'post@noord-holland.nl', 'http://www.noord-holland.nl')\n",
      "('Overijssel', 'Luttenbergstraat 2', '8012 EE', 'Zwolle', 'Postbus 10078', '8000 GB', 'Zwolle', '038 499 88 99', '038 425 48 88', 'postbus@overijssel.nl', 'http://www.overijssel.nl')\n",
      "('Utrecht', 'Pythagoraslaan 101', '3584 BB', 'Utrecht', 'Postbus 80300', '3508 TH', 'Utrecht', '0302589111', '0302522564', 'info@provincie-utrecht.nl', 'http://www.provincie-utrecht.nl')\n",
      "('Zeeland', 'Abdij 6', '4331 BK', 'Middelburg', 'Postbus 6001', '4330 LA', 'Middelburg', '0118 63 10 11', '0118 62 69 49', 'provincie@zeeland.nl', 'https://www.zeeland.nl')\n",
      "('Zuid-Holland', 'Zuid-Hollandplein 1', '2596 AW', 'Den Haag', 'Postbus 90602 ', '2509 LP', 'Den Haag', '0704416611', None, 'zuidholland@pzh.nl', 'http://www.zuid-holland.nl')\n"
     ]
    }
   ],
   "source": [
    "# maak een bestand met de naam '190723 contactgegevens provincies.csv'; maak het 'writeable' = 'w'; \n",
    "# zorg dat computers het kunnen lezen met encoding utf-8; en maak dit bestand aanroepbaar onder de naam/variabele f\n",
    "f = open('190723 contactgegevens provincies.csv', 'w', encoding='utf8', newline='')\n",
    "# maak een schrijver waarmee we informatie naar ons bestand, f, kunnen schrijven.\n",
    "# omdat we een csv willen maken, een comma seperated values file, scheiden we waarden met de delimiter een komma. \n",
    "writer = csv.writer(f, delimiter=',')\n",
    "# gebruik de zojuist gemaakte schrijver om de 1e rij met kolomhoofden naar het bestand te schrijven \n",
    "# let op de volgorde van de kolomhoofden moet overeenkomen met de volgorde van de weg te schrijven data, \n",
    "# zie de variabele 'data' onderaan deze scraper.\n",
    "writer.writerow(['provincie', 'baAdres', 'baPostcode', 'baPlaats', 'paAdres', 'paPostcode', \n",
    "                 'paPlaats',  'telefoon', 'fax', 'email', 'website'])\n",
    "# voor elk item (i) in de lijst urls... \n",
    "for i in urls:\n",
    "    # probeer...\n",
    "    try:\n",
    "        # de provincienaam uit de url te selecteren\n",
    "        provincienaam = re.search(r'Provincie\\_(.*)', i).group(1)\n",
    "    # als dat niet lukt...\n",
    "    except:\n",
    "        # laat de variabele provincienaam dan leeg\n",
    "        provincienaam = None\n",
    "    # vraag de pagina op, let op de url maak ik ter plekke\n",
    "    r = requests.get('https://almanak.overheid.nl'+i)\n",
    "    # als het opvragen van de pagina gelukt is...\n",
    "    if r.status_code == 200:\n",
    "        soup = BeautifulSoup(r.content, 'html.parser')\n",
    "        # probeer...\n",
    "        try:\n",
    "            #  ...de 1e tabel uit de soep te halen\n",
    "            tabel1 = soup.find('table')\n",
    "        # als dat niet lukt...\n",
    "        except:\n",
    "            # ...print dan de volgende foutmelding\n",
    "            print('Tabel1 niet gevonden - dus niets zal gaan werken :(')\n",
    "        # probeer...\n",
    "        try:\n",
    "            # ...het bezoekadres uit de tabel1 te halen\n",
    "            bezoekadres = tabel1.find_all('td')[0].get_text().strip().replace('\\t','').replace('\\n', ' ')\n",
    "        # als dat niet lukt...\n",
    "        except:\n",
    "            # ...maak het bezoekadres dan 'None', which is programmers speak for leave it empty\n",
    "            bezoekadres = None\n",
    "        # probeer...\n",
    "        try:\n",
    "            # het bezoekadres op te splitsen in adres met een regex\n",
    "            baAdres = re.search(r'(.*)\\s([0-9]{4,4}\\s[A-Z]+)\\s(.*)', bezoekadres).group(1)\n",
    "        # als dat niet lukt...\n",
    "        except:\n",
    "            # ...maak het baAdres dan 'None'\n",
    "            baAdres = None\n",
    "        # probeer...\n",
    "        try:\n",
    "            # ...baPostcode te selecteren uit het bezoekadres met een regex\n",
    "            baPostcode = re.search(r'(.*)\\s([0-9]{4,4}\\s[A-Z]+)\\s(.*)', bezoekadres).group(2)\n",
    "        # als dat niet lukt...\n",
    "        except:\n",
    "            # ...maak baPostcode dan None\n",
    "            baPostcode = None\n",
    "        # probeer...\n",
    "        try:\n",
    "            # ...baPlaats te selecteren uit het bezoekadres met een regex\n",
    "            baPlaats = re.search(r'(.*)\\s([0-9]{4,4}\\s[A-Z]+)\\s(.*)', bezoekadres).group(3)\n",
    "        # als dat niet lukt...\n",
    "        except:\n",
    "            # ... maak baPlaats dan None\n",
    "            baPlaats = None\n",
    "        # herhaal bovenstaande, maar dan voor het postadres. Stap 1: selecter het postadres\n",
    "        try:\n",
    "            postadres = tabel1.find_all('td')[1].get_text().strip().replace('\\t','').replace('\\n', ' ')\n",
    "        except:\n",
    "            postadres = None\n",
    "        # Stap 2: het opsplitsen van postadres in paAdres, paPostcode en paPlaats\n",
    "        try:\n",
    "            paAdres = re.search(r'(.*)\\s([0-9]{4,4}\\s[A-Z]+)\\s(.*)', postadres).group(1)\n",
    "        except:\n",
    "            paAdres = None\n",
    "        try:\n",
    "            paPostcode = re.search(r'(.*)\\s([0-9]{4,4}\\s[A-Z]+)\\s(.*)', postadres).group(2)\n",
    "        except:\n",
    "            paPostcode = None\n",
    "        try:\n",
    "            paPlaats = re.search(r'(.*)\\s([0-9]{4,4}\\s[A-Z]+)\\s(.*)', postadres).group(3)\n",
    "        except:\n",
    "            paPlaats = None\n",
    "        # probeer het telefoonnummer op te halen\n",
    "        try:\n",
    "            telefoon = tabel1.find_all('td')[2].get_text().strip().replace(' (algemeen)', '').replace('(', '').replace(')','')\n",
    "        except:\n",
    "            telefoon = None\n",
    "        # probeer het faxnummer op te halen\n",
    "        try:\n",
    "            fax = tabel1.find('td', {\"data-before\": \"Fax\"}).get_text().replace('(', '').replace(')','')\n",
    "        except:\n",
    "            fax = None\n",
    "        # probeer het mailadres op te halen\n",
    "        try:\n",
    "            email = tabel1.find('td', {\"data-before\": \"E-mail\"}).find('a')['href'].replace('mailto:', '')\n",
    "        except:\n",
    "            email = None\n",
    "        # probeer de website op te halen\n",
    "        try:\n",
    "            website = tabel1.find('td', {\"data-before\": \"Internet\"}).find('a')['href']\n",
    "        except:\n",
    "            website = None\n",
    "        # verzamel alle informatie in 1 variabele\n",
    "        data = (provincienaam, baAdres, baPostcode, baPlaats, paAdres, paPostcode, paPlaats, \n",
    "                telefoon, fax, email, website)\n",
    "        # ter controle, print de verzamelde data\n",
    "        print(data)\n",
    "        # schrijf de lijst 'data' als een rij naar de csv\n",
    "        writer.writerow(data)\n",
    "    # als het opvragen van de pagina niet gelukt is...\n",
    "    else:\n",
    "        # print feedback zodat ik kan zien waar het fout ging\n",
    "        print('https://almanak.overheid.nl'+i+' opvragen is niet gelukt...')\n",
    "# als je klaar bent met deze for-loop, sluit dan het csv-bestand\n",
    "f.close()\n",
    "\n",
    "\n"
   ]
  },
  {
   "cell_type": "markdown",
   "metadata": {},
   "source": [
    "## 3. Controle\n",
    "\n",
    "Ter controle importeer ik de zojuist gemaakte csv, en bekijk ik de tabel nog even. "
   ]
  },
  {
   "cell_type": "code",
   "execution_count": 66,
   "metadata": {},
   "outputs": [],
   "source": [
    "# lees de csv met pandas (pd), bewaar als variabele df - kort voor dataframe\n",
    "df = pd.read_csv('190723 contactgegevens provincies.csv')"
   ]
  },
  {
   "cell_type": "code",
   "execution_count": 68,
   "metadata": {},
   "outputs": [
    {
     "data": {
      "text/html": [
       "<div>\n",
       "<style scoped>\n",
       "    .dataframe tbody tr th:only-of-type {\n",
       "        vertical-align: middle;\n",
       "    }\n",
       "\n",
       "    .dataframe tbody tr th {\n",
       "        vertical-align: top;\n",
       "    }\n",
       "\n",
       "    .dataframe thead th {\n",
       "        text-align: right;\n",
       "    }\n",
       "</style>\n",
       "<table border=\"1\" class=\"dataframe\">\n",
       "  <thead>\n",
       "    <tr style=\"text-align: right;\">\n",
       "      <th></th>\n",
       "      <th>provincie</th>\n",
       "      <th>baAdres</th>\n",
       "      <th>baPostcode</th>\n",
       "      <th>baPlaats</th>\n",
       "      <th>paAdres</th>\n",
       "      <th>paPostcode</th>\n",
       "      <th>paPlaats</th>\n",
       "      <th>telefoon</th>\n",
       "      <th>fax</th>\n",
       "      <th>email</th>\n",
       "      <th>website</th>\n",
       "    </tr>\n",
       "  </thead>\n",
       "  <tbody>\n",
       "    <tr>\n",
       "      <th>0</th>\n",
       "      <td>Drenthe</td>\n",
       "      <td>Westerbrink 1</td>\n",
       "      <td>9405 BJ</td>\n",
       "      <td>Assen</td>\n",
       "      <td>Postbus 122</td>\n",
       "      <td>9400 AC</td>\n",
       "      <td>Assen</td>\n",
       "      <td>0592 36 55 55</td>\n",
       "      <td>0592 36 57 77</td>\n",
       "      <td>post@drenthe.nl</td>\n",
       "      <td>http://www.provincie.drenthe.nl</td>\n",
       "    </tr>\n",
       "    <tr>\n",
       "      <th>1</th>\n",
       "      <td>Flevoland</td>\n",
       "      <td>Visarenddreef 1</td>\n",
       "      <td>8232 PH</td>\n",
       "      <td>Lelystad</td>\n",
       "      <td>Postbus 55</td>\n",
       "      <td>8200 AB</td>\n",
       "      <td>Lelystad</td>\n",
       "      <td>0320 265 265</td>\n",
       "      <td>0320 26 52 60</td>\n",
       "      <td>provincie@flevoland.nl</td>\n",
       "      <td>http://www.flevoland.nl</td>\n",
       "    </tr>\n",
       "    <tr>\n",
       "      <th>2</th>\n",
       "      <td>Fryslan</td>\n",
       "      <td>Tweebaksmarkt 52</td>\n",
       "      <td>8911 KZ</td>\n",
       "      <td>Leeuwarden</td>\n",
       "      <td>Postbus 20120</td>\n",
       "      <td>8900 HM</td>\n",
       "      <td>Leeuwarden</td>\n",
       "      <td>058 292 59 25</td>\n",
       "      <td>058 292 51 25</td>\n",
       "      <td>provincie@fryslan.frl</td>\n",
       "      <td>https://www.fryslan.frl</td>\n",
       "    </tr>\n",
       "    <tr>\n",
       "      <th>3</th>\n",
       "      <td>Gelderland</td>\n",
       "      <td>Markt 11</td>\n",
       "      <td>6811 CG</td>\n",
       "      <td>Arnhem</td>\n",
       "      <td>Postbus  9090</td>\n",
       "      <td>6800 GX</td>\n",
       "      <td>Arnhem</td>\n",
       "      <td>0263599999</td>\n",
       "      <td>NaN</td>\n",
       "      <td>provincieloket@gelderland.nl</td>\n",
       "      <td>http://www.gelderland.nl</td>\n",
       "    </tr>\n",
       "    <tr>\n",
       "      <th>4</th>\n",
       "      <td>Groningen</td>\n",
       "      <td>Martinikerkhof 12</td>\n",
       "      <td>9712 JG</td>\n",
       "      <td>Groningen</td>\n",
       "      <td>Postbus 610</td>\n",
       "      <td>9700 AP</td>\n",
       "      <td>Groningen</td>\n",
       "      <td>0503164911</td>\n",
       "      <td>050 316 49  33</td>\n",
       "      <td>info@provinciegroningen.nl</td>\n",
       "      <td>http://www.provinciegroningen.nl</td>\n",
       "    </tr>\n",
       "    <tr>\n",
       "      <th>5</th>\n",
       "      <td>Limburg</td>\n",
       "      <td>Limburglaan 10</td>\n",
       "      <td>6229 GA</td>\n",
       "      <td>Maastricht</td>\n",
       "      <td>Postbus 5700</td>\n",
       "      <td>6202 MA</td>\n",
       "      <td>Maastricht</td>\n",
       "      <td>043 389 99 99</td>\n",
       "      <td>043 361 80 99</td>\n",
       "      <td>postbus@prvlimburg.nl</td>\n",
       "      <td>http://www.limburg.nl</td>\n",
       "    </tr>\n",
       "    <tr>\n",
       "      <th>6</th>\n",
       "      <td>Noord-Brabant</td>\n",
       "      <td>Brabantlaan 1</td>\n",
       "      <td>5216 TV</td>\n",
       "      <td>'s-Hertogenbosch</td>\n",
       "      <td>Postbus 90151</td>\n",
       "      <td>5200 MC</td>\n",
       "      <td>'s-Hertogenbosch</td>\n",
       "      <td>073 681 28 12</td>\n",
       "      <td>073 614 11 15</td>\n",
       "      <td>info@brabant.nl</td>\n",
       "      <td>http://www.brabant.nl</td>\n",
       "    </tr>\n",
       "    <tr>\n",
       "      <th>7</th>\n",
       "      <td>Noord-Holland</td>\n",
       "      <td>Houtplein 33</td>\n",
       "      <td>2012 DE</td>\n",
       "      <td>Haarlem</td>\n",
       "      <td>Postbus 3007</td>\n",
       "      <td>2001 DA</td>\n",
       "      <td>Haarlem</td>\n",
       "      <td>0235143143</td>\n",
       "      <td>NaN</td>\n",
       "      <td>post@noord-holland.nl</td>\n",
       "      <td>http://www.noord-holland.nl</td>\n",
       "    </tr>\n",
       "    <tr>\n",
       "      <th>8</th>\n",
       "      <td>Overijssel</td>\n",
       "      <td>Luttenbergstraat 2</td>\n",
       "      <td>8012 EE</td>\n",
       "      <td>Zwolle</td>\n",
       "      <td>Postbus 10078</td>\n",
       "      <td>8000 GB</td>\n",
       "      <td>Zwolle</td>\n",
       "      <td>038 499 88 99</td>\n",
       "      <td>038 425 48 88</td>\n",
       "      <td>postbus@overijssel.nl</td>\n",
       "      <td>http://www.overijssel.nl</td>\n",
       "    </tr>\n",
       "    <tr>\n",
       "      <th>9</th>\n",
       "      <td>Utrecht</td>\n",
       "      <td>Pythagoraslaan 101</td>\n",
       "      <td>3584 BB</td>\n",
       "      <td>Utrecht</td>\n",
       "      <td>Postbus 80300</td>\n",
       "      <td>3508 TH</td>\n",
       "      <td>Utrecht</td>\n",
       "      <td>0302589111</td>\n",
       "      <td>0302522564</td>\n",
       "      <td>info@provincie-utrecht.nl</td>\n",
       "      <td>http://www.provincie-utrecht.nl</td>\n",
       "    </tr>\n",
       "    <tr>\n",
       "      <th>10</th>\n",
       "      <td>Zeeland</td>\n",
       "      <td>Abdij 6</td>\n",
       "      <td>4331 BK</td>\n",
       "      <td>Middelburg</td>\n",
       "      <td>Postbus 6001</td>\n",
       "      <td>4330 LA</td>\n",
       "      <td>Middelburg</td>\n",
       "      <td>0118 63 10 11</td>\n",
       "      <td>0118 62 69 49</td>\n",
       "      <td>provincie@zeeland.nl</td>\n",
       "      <td>https://www.zeeland.nl</td>\n",
       "    </tr>\n",
       "    <tr>\n",
       "      <th>11</th>\n",
       "      <td>Zuid-Holland</td>\n",
       "      <td>Zuid-Hollandplein 1</td>\n",
       "      <td>2596 AW</td>\n",
       "      <td>Den Haag</td>\n",
       "      <td>Postbus 90602</td>\n",
       "      <td>2509 LP</td>\n",
       "      <td>Den Haag</td>\n",
       "      <td>0704416611</td>\n",
       "      <td>NaN</td>\n",
       "      <td>zuidholland@pzh.nl</td>\n",
       "      <td>http://www.zuid-holland.nl</td>\n",
       "    </tr>\n",
       "  </tbody>\n",
       "</table>\n",
       "</div>"
      ],
      "text/plain": [
       "        provincie              baAdres baPostcode          baPlaats  \\\n",
       "0         Drenthe        Westerbrink 1    9405 BJ             Assen   \n",
       "1       Flevoland      Visarenddreef 1    8232 PH          Lelystad   \n",
       "2         Fryslan     Tweebaksmarkt 52    8911 KZ        Leeuwarden   \n",
       "3      Gelderland             Markt 11    6811 CG            Arnhem   \n",
       "4       Groningen    Martinikerkhof 12    9712 JG         Groningen   \n",
       "5         Limburg       Limburglaan 10    6229 GA        Maastricht   \n",
       "6   Noord-Brabant        Brabantlaan 1    5216 TV  's-Hertogenbosch   \n",
       "7   Noord-Holland         Houtplein 33    2012 DE           Haarlem   \n",
       "8      Overijssel   Luttenbergstraat 2    8012 EE            Zwolle   \n",
       "9         Utrecht   Pythagoraslaan 101    3584 BB           Utrecht   \n",
       "10        Zeeland              Abdij 6    4331 BK        Middelburg   \n",
       "11   Zuid-Holland  Zuid-Hollandplein 1    2596 AW          Den Haag   \n",
       "\n",
       "           paAdres paPostcode          paPlaats       telefoon  \\\n",
       "0      Postbus 122    9400 AC             Assen  0592 36 55 55   \n",
       "1       Postbus 55    8200 AB          Lelystad   0320 265 265   \n",
       "2    Postbus 20120    8900 HM        Leeuwarden  058 292 59 25   \n",
       "3   Postbus  9090     6800 GX            Arnhem     0263599999   \n",
       "4      Postbus 610    9700 AP         Groningen     0503164911   \n",
       "5     Postbus 5700    6202 MA        Maastricht  043 389 99 99   \n",
       "6    Postbus 90151    5200 MC  's-Hertogenbosch  073 681 28 12   \n",
       "7     Postbus 3007    2001 DA           Haarlem     0235143143   \n",
       "8    Postbus 10078    8000 GB            Zwolle  038 499 88 99   \n",
       "9    Postbus 80300    3508 TH           Utrecht     0302589111   \n",
       "10    Postbus 6001    4330 LA        Middelburg  0118 63 10 11   \n",
       "11  Postbus 90602     2509 LP          Den Haag     0704416611   \n",
       "\n",
       "               fax                         email  \\\n",
       "0    0592 36 57 77               post@drenthe.nl   \n",
       "1    0320 26 52 60        provincie@flevoland.nl   \n",
       "2    058 292 51 25         provincie@fryslan.frl   \n",
       "3              NaN  provincieloket@gelderland.nl   \n",
       "4   050 316 49  33    info@provinciegroningen.nl   \n",
       "5    043 361 80 99         postbus@prvlimburg.nl   \n",
       "6    073 614 11 15               info@brabant.nl   \n",
       "7              NaN         post@noord-holland.nl   \n",
       "8    038 425 48 88         postbus@overijssel.nl   \n",
       "9       0302522564     info@provincie-utrecht.nl   \n",
       "10   0118 62 69 49          provincie@zeeland.nl   \n",
       "11             NaN            zuidholland@pzh.nl   \n",
       "\n",
       "                             website  \n",
       "0    http://www.provincie.drenthe.nl  \n",
       "1            http://www.flevoland.nl  \n",
       "2            https://www.fryslan.frl  \n",
       "3           http://www.gelderland.nl  \n",
       "4   http://www.provinciegroningen.nl  \n",
       "5              http://www.limburg.nl  \n",
       "6              http://www.brabant.nl  \n",
       "7        http://www.noord-holland.nl  \n",
       "8           http://www.overijssel.nl  \n",
       "9    http://www.provincie-utrecht.nl  \n",
       "10            https://www.zeeland.nl  \n",
       "11        http://www.zuid-holland.nl  "
      ]
     },
     "execution_count": 68,
     "metadata": {},
     "output_type": "execute_result"
    }
   ],
   "source": [
    "# bekijk de data\n",
    "df"
   ]
  },
  {
   "cell_type": "markdown",
   "metadata": {},
   "source": [
    "Als ik wil weten hoeveel provincies geen fax-nummer hebben, dan moet ik daar 3 stappen voor doen: \n",
    "1. neem de fax-kolom:      `df['fax']`\n",
    "2. bekijk per rij of dit een None waarde is of niet:      `.isna()`\n",
    "3. tel alle none-waarden bij elkaar op:     `.sum()`\n",
    "\n",
    "In code ziet dat er dus zo uit:"
   ]
  },
  {
   "cell_type": "code",
   "execution_count": 72,
   "metadata": {},
   "outputs": [
    {
     "data": {
      "text/plain": [
       "3"
      ]
     },
     "execution_count": 72,
     "metadata": {},
     "output_type": "execute_result"
    }
   ],
   "source": [
    "# aantal Nones in fax kolom\n",
    "df['fax'].isna().sum()"
   ]
  }
 ],
 "metadata": {
  "kernelspec": {
   "display_name": "Python 3",
   "language": "python",
   "name": "python3"
  },
  "language_info": {
   "codemirror_mode": {
    "name": "ipython",
    "version": 3
   },
   "file_extension": ".py",
   "mimetype": "text/x-python",
   "name": "python",
   "nbconvert_exporter": "python",
   "pygments_lexer": "ipython3",
   "version": "3.7.3"
  }
 },
 "nbformat": 4,
 "nbformat_minor": 2
}
