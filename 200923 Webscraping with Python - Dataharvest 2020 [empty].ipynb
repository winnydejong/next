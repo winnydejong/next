{
 "cells": [
  {
   "cell_type": "markdown",
   "metadata": {},
   "source": [
    "# Webscraping with Python\n",
    "For [Dataharvest+ 2020](https://dataharvesteijc2020.sched.com/event/dkjh/data-analysis-with-pandas-on-jupyter-3?iframe=no) by [Adriana Homolova](https://twitter.com/naberacka) & [Winny de Jong](https://twitter.com/winnydejong)\n",
    "\n",
    "Webscraping is the automated downloading of structured information from the open web. You should consider it a last resort for getting the information you need: try calling and asking an organisation for information first. It's the polite thing to do."
   ]
  },
  {
   "cell_type": "markdown",
   "metadata": {},
   "source": [
    "## Setup"
   ]
  },
  {
   "cell_type": "markdown",
   "metadata": {},
   "source": [
    "We're going to do some basic webscraping using the following Python libraries: \n",
    "- Requests: to request websites\n",
    "- BeautifulSoup: to parse the HTML of the requested website, note to import this library you'll have to use `from bs4 import BeautifulSoup`\n",
    "- Pandas: to do data analysis on the scraped data"
   ]
  },
  {
   "cell_type": "code",
   "execution_count": 1,
   "metadata": {},
   "outputs": [],
   "source": [
    "# import all libraries needed\n"
   ]
  },
  {
   "cell_type": "markdown",
   "metadata": {
    "toc-hr-collapsed": true
   },
   "source": [
    "## Scraper 1\n",
    "\n",
    "Goal: Let's scrape the DataHarvest Program, and save the program to a csv file. \n",
    "\n",
    "Data we want to collect for every session: \n",
    "- name\n",
    "- url to sessionpage"
   ]
  },
  {
   "cell_type": "markdown",
   "metadata": {},
   "source": [
    "### request website"
   ]
  },
  {
   "cell_type": "code",
   "execution_count": null,
   "metadata": {},
   "outputs": [],
   "source": [
    "# request webpage, save to variable named r\n",
    "# use url https://dataharvesteijc2020.sched.com/?iframe=no\n"
   ]
  },
  {
   "cell_type": "markdown",
   "metadata": {},
   "source": [
    "### check status request"
   ]
  },
  {
   "cell_type": "markdown",
   "metadata": {},
   "source": [
    "Check if the request went correctly, by looking at the status code. The http web protocol has multiple status codes, 404 is probably the one you'll know. :) If a website works, the status code is 200."
   ]
  },
  {
   "cell_type": "code",
   "execution_count": null,
   "metadata": {},
   "outputs": [],
   "source": [
    "# print status code of r\n"
   ]
  },
  {
   "cell_type": "code",
   "execution_count": null,
   "metadata": {},
   "outputs": [],
   "source": [
    "# another way to get the status code is simply printing the request\n"
   ]
  },
  {
   "cell_type": "markdown",
   "metadata": {},
   "source": [
    "### parse HTML\n",
    "\n",
    "We're going to use the Beautiful Soup library to parse the HTML of the webpage. To start, we'll save the HTML of the requested webpage to a variable we'll call 'soup'. Weird? Nah, it's the default name to use..."
   ]
  },
  {
   "cell_type": "code",
   "execution_count": null,
   "metadata": {},
   "outputs": [],
   "source": [
    "# BeautifulSopu take the content of the request called r, \n",
    "# parse it as HTML, and save it to a variable called soup\n"
   ]
  },
  {
   "cell_type": "code",
   "execution_count": null,
   "metadata": {},
   "outputs": [],
   "source": [
    "# check what's inside soup, should be the source code of \n",
    "# the requested webpage...\n"
   ]
  },
  {
   "cell_type": "markdown",
   "metadata": {},
   "source": [
    "### collect data for 1 workshop\n",
    "\n",
    "Remember, this is the data we want to collect for every session:\n",
    "- name\n",
    "- url to sessionpage\n",
    "\n",
    "Look at the source-code of the page to figure out what you're looking for on the backend. Every workshop is a `<div class='sched-container'>` in the source code..."
   ]
  },
  {
   "cell_type": "code",
   "execution_count": null,
   "metadata": {},
   "outputs": [],
   "source": [
    "# find the first workshop in the soup (read: source code), save to w1\n"
   ]
  },
  {
   "cell_type": "code",
   "execution_count": null,
   "metadata": {},
   "outputs": [],
   "source": [
    "# print content of w1\n"
   ]
  },
  {
   "cell_type": "code",
   "execution_count": null,
   "metadata": {},
   "outputs": [],
   "source": [
    "# get name of first workshop\n"
   ]
  },
  {
   "cell_type": "code",
   "execution_count": null,
   "metadata": {},
   "outputs": [],
   "source": [
    "# print name of first workshop\n"
   ]
  },
  {
   "cell_type": "code",
   "execution_count": null,
   "metadata": {},
   "outputs": [],
   "source": [
    "# no, we only want the name... not all the html!\n",
    "# let's try again...\n"
   ]
  },
  {
   "cell_type": "code",
   "execution_count": null,
   "metadata": {},
   "outputs": [],
   "source": [
    "# get url of first workshop\n"
   ]
  },
  {
   "cell_type": "code",
   "execution_count": null,
   "metadata": {},
   "outputs": [],
   "source": [
    "# that's not the entire url... now what? \n",
    "# you can easily combine strings in Python, like so: "
   ]
  },
  {
   "cell_type": "markdown",
   "metadata": {},
   "source": [
    "### collect data for all workshops\n",
    "\n",
    "If you were to collect all data like this, simply typing it over or copy-pasting would be faster... That's were for-loops come in. For every workshop listed on the page, we want to do the exact same thing. Python makes that very easy to do."
   ]
  },
  {
   "cell_type": "code",
   "execution_count": null,
   "metadata": {},
   "outputs": [],
   "source": [
    "# let's go and collect all 'div' HTML-elements with the class 'sched-container'\n",
    "# that exist in soup and save these divs to a variable called sessions\n"
   ]
  },
  {
   "cell_type": "code",
   "execution_count": null,
   "metadata": {},
   "outputs": [],
   "source": [
    "# let's look at what's inside the sessions variable\n"
   ]
  },
  {
   "cell_type": "markdown",
   "metadata": {},
   "source": [
    "Note how the sessions variable begins and ends with square brackets? That's because it's a list that contains all workshops."
   ]
  },
  {
   "cell_type": "code",
   "execution_count": null,
   "metadata": {},
   "outputs": [],
   "source": [
    "# since it's a list, you can request to only see the first item\n",
    "# note how computers start counting at zero...\n",
    "# if everything works out, this should look familiar...\n"
   ]
  },
  {
   "cell_type": "code",
   "execution_count": null,
   "metadata": {},
   "outputs": [],
   "source": [
    "# since it's a list, you can request its length\n"
   ]
  },
  {
   "cell_type": "markdown",
   "metadata": {},
   "source": [
    "OK. So far, so good, right? To get the link and name of every session, we're going to use a **for-loop**. Basically telling our computers to extract the name and the url **for every item** in the list. "
   ]
  },
  {
   "cell_type": "code",
   "execution_count": null,
   "metadata": {},
   "outputs": [],
   "source": [
    "# for every item (I named it `s`, but I could have chosen anything really, as long as I'm consistent)\n",
    "# in the list called sessions, go and do...:\n",
    "\n",
    "    # select the name\n",
    "\n",
    "    # select the url"
   ]
  },
  {
   "cell_type": "markdown",
   "metadata": {},
   "source": [
    "This all looks mighty fine, but how do we get this in a table? Where are we going to store this information? Printing it out does not make it easy to use...\n",
    "\n",
    "Let's say we create a list for every session, like so:   \n",
    "`listForSession = [nameSession, linkSession]`\n",
    "\n",
    "If we then create a list of these lists, like so:  \n",
    "`listOfLists = [[nameSession, linkSession],\n",
    "                [nameSession, linkSession]\n",
    "                [nameSession, linkSession]\n",
    "                [nameSession, linkSession]]`\n",
    "                \n",
    "We can use the Pandas function `pd.DataFrame` to easily create a dataframe (read: table) based on a list of lists, where every list in the list becomes a row. Confused? I'll show you..."
   ]
  },
  {
   "cell_type": "code",
   "execution_count": null,
   "metadata": {},
   "outputs": [],
   "source": [
    "# create an empty list, to be filled with lists\n",
    "\n",
    "# for every item (I named it `s`, but I could have chosen anything really, as long as I'm consistent)\n",
    "# in the list called sessions...\n",
    "    # ...select the name\n",
    "    # ...select the url\n",
    "    # ...create a list that contains name and link\n",
    "    # ...add this list named sList to the inputTable list\n",
    "    \n",
    "# see how the indent of the code ends here? \n",
    "# everything that follows is no longer done for every s in sessions.\n"
   ]
  },
  {
   "cell_type": "code",
   "execution_count": null,
   "metadata": {},
   "outputs": [],
   "source": [
    "# if you want to check upon your own work, and see if there is a list for every s in sessions;\n",
    "# the length the inputTable list - the length of the sessions list should be zero\n"
   ]
  },
  {
   "cell_type": "code",
   "execution_count": null,
   "metadata": {},
   "outputs": [],
   "source": [
    "# create a dataframe named df based on a list of lists called inputTable using Pandas\n"
   ]
  },
  {
   "cell_type": "code",
   "execution_count": null,
   "metadata": {},
   "outputs": [],
   "source": [
    "# set new column names\n"
   ]
  },
  {
   "cell_type": "code",
   "execution_count": null,
   "metadata": {},
   "outputs": [],
   "source": [
    "# check head of dataframe\n"
   ]
  },
  {
   "cell_type": "code",
   "execution_count": null,
   "metadata": {},
   "outputs": [],
   "source": [
    "# save dataframe to csv\n"
   ]
  },
  {
   "cell_type": "markdown",
   "metadata": {
    "toc-hr-collapsed": true
   },
   "source": [
    "## Scraper 2\n",
    "\n",
    "Goal: get summary, speakers, date and time for all DataHarvest 2020 sessions"
   ]
  },
  {
   "cell_type": "code",
   "execution_count": null,
   "metadata": {},
   "outputs": [],
   "source": [
    "# show me a sample of dataframe df\n"
   ]
  },
  {
   "cell_type": "code",
   "execution_count": null,
   "metadata": {},
   "outputs": [],
   "source": [
    "# give me the shape of dataframe df\n"
   ]
  },
  {
   "cell_type": "markdown",
   "metadata": {},
   "source": [
    "What is it we want to do exactly?\n",
    "  \n",
    "For every workshop in the df dataframe, we want to: \n",
    "- request the webpage\n",
    "- parse the html\n",
    "- extract the data:\n",
    "    - name Workshop\n",
    "    - date\n",
    "    - time\n",
    "    - summary\n",
    "    - speakers"
   ]
  },
  {
   "cell_type": "markdown",
   "metadata": {},
   "source": [
    "### collect data for 1 workshop\n",
    "\n",
    "Let's try it for 1 workshop first...."
   ]
  },
  {
   "cell_type": "code",
   "execution_count": null,
   "metadata": {},
   "outputs": [],
   "source": [
    "# request webpage\n"
   ]
  },
  {
   "cell_type": "code",
   "execution_count": null,
   "metadata": {},
   "outputs": [],
   "source": [
    "# check status code of request\n"
   ]
  },
  {
   "cell_type": "code",
   "execution_count": null,
   "metadata": {},
   "outputs": [],
   "source": [
    "# create soup = parse HTML\n"
   ]
  },
  {
   "cell_type": "code",
   "execution_count": null,
   "metadata": {},
   "outputs": [],
   "source": [
    "# get workshop title\n"
   ]
  },
  {
   "cell_type": "code",
   "execution_count": null,
   "metadata": {},
   "outputs": [],
   "source": [
    "# get workshop title, text only\n"
   ]
  },
  {
   "cell_type": "code",
   "execution_count": null,
   "metadata": {},
   "outputs": [],
   "source": [
    "# get workshop title, text without surrounding spaces\n"
   ]
  },
  {
   "cell_type": "code",
   "execution_count": null,
   "metadata": {},
   "outputs": [],
   "source": [
    "# get date from HTML, by selecting div\n"
   ]
  },
  {
   "cell_type": "code",
   "execution_count": null,
   "metadata": {},
   "outputs": [],
   "source": [
    "# get date from HTML, only get the id of said div\n"
   ]
  },
  {
   "cell_type": "code",
   "execution_count": null,
   "metadata": {},
   "outputs": [],
   "source": [
    "# get date from HTML, by selecting div\n"
   ]
  },
  {
   "cell_type": "code",
   "execution_count": null,
   "metadata": {},
   "outputs": [],
   "source": [
    "# get date from HTML, only get the text of the div\n"
   ]
  },
  {
   "cell_type": "code",
   "execution_count": null,
   "metadata": {},
   "outputs": [],
   "source": [
    "# get date from HTML, remove surrounding spaces of text from div\n"
   ]
  },
  {
   "cell_type": "code",
   "execution_count": null,
   "metadata": {},
   "outputs": [],
   "source": [
    "# get date from HTML, only keep the last 13 letters of the text from the div\n"
   ]
  },
  {
   "cell_type": "code",
   "execution_count": null,
   "metadata": {},
   "outputs": [],
   "source": [
    "# get description from HTML, by selecting div\n"
   ]
  },
  {
   "cell_type": "code",
   "execution_count": null,
   "metadata": {},
   "outputs": [],
   "source": [
    "# get all speakers from HTML, by finding all speaker divs\n"
   ]
  },
  {
   "cell_type": "code",
   "execution_count": null,
   "metadata": {},
   "outputs": [],
   "source": [
    "# create empty list, to save speakers in\n",
    "\n",
    "# select names from variable called speakersInput\n",
    "\n",
    "    # add name to list named speakers\n"
   ]
  },
  {
   "cell_type": "markdown",
   "metadata": {},
   "source": [
    "### collect data for all workshops"
   ]
  },
  {
   "cell_type": "code",
   "execution_count": null,
   "metadata": {},
   "outputs": [],
   "source": [
    "# create an empty list to store all data in\n",
    "\n",
    "# lets create a for-loop;\n",
    "# for every link in the column named link from the table named df:\n",
    "\n",
    "    # request the webpage\n",
    "\n",
    "    \n",
    "    # check if request status code is 200, if so\n",
    "\n",
    "        # parse HTML, create soup\n",
    "      \n",
    "    \n",
    "        # get workshop title\n",
    "        \n",
    "            \n",
    "        # get date from HTML, only get the id of said div\n",
    "        \n",
    "            \n",
    "        # get date from HTML, only keep the last 13 letters of the text from the div\n",
    "        \n",
    "            \n",
    "        # get description from HTML, by selecting div\n",
    "        \n",
    "            \n",
    "        # create empty list, to save speakers in\n",
    "        \n",
    "        # get all speakers from HTML, by finding all speaker divs\n",
    "        \n",
    "            \n",
    "        # create a list with all scraped info\n",
    "        \n",
    "        \n",
    "        # append list named workshopIfno to list named detailsWorkshops\n",
    "            \n",
    "    # if request status code is not 200...\n",
    "    \n",
    "        # print warning + link\n",
    "        \n",
    "        \n",
    "# create dataframe named dh (dataharvest) based on detailsWorkshops list\n",
    "\n",
    "# check out dh\n"
   ]
  },
  {
   "cell_type": "code",
   "execution_count": null,
   "metadata": {},
   "outputs": [],
   "source": [
    "# set column names\n"
   ]
  },
  {
   "cell_type": "code",
   "execution_count": null,
   "metadata": {},
   "outputs": [],
   "source": [
    "# check out shape of dh dataframe\n"
   ]
  },
  {
   "cell_type": "code",
   "execution_count": null,
   "metadata": {},
   "outputs": [],
   "source": [
    "# save data to csv\n"
   ]
  },
  {
   "cell_type": "markdown",
   "metadata": {
    "toc-hr-collapsed": false
   },
   "source": [
    "## Analyse data"
   ]
  },
  {
   "cell_type": "markdown",
   "metadata": {},
   "source": [
    "### Be ware: explosion ahead ;)\n",
    "\n",
    "Question: which speaker was involved in most sessions? \n",
    "\n",
    "Answering this question would be easy, if you had 1 speaker in every cell in the speakers-column. But our data doesn't look like that... It looks like this... take a sample using `.sample()`"
   ]
  },
  {
   "cell_type": "code",
   "execution_count": null,
   "metadata": {},
   "outputs": [],
   "source": []
  },
  {
   "cell_type": "markdown",
   "metadata": {},
   "source": [
    "Now what do we do? Well, every entry in the speakers-column is a list. We know so, because we made it so. So we can 'explode' these list, and create a new row for every item of said list; where all other columns stay the same.... "
   ]
  },
  {
   "cell_type": "code",
   "execution_count": null,
   "metadata": {},
   "outputs": [],
   "source": [
    "# let's look at the first row, use .head()\n"
   ]
  },
  {
   "cell_type": "code",
   "execution_count": null,
   "metadata": {},
   "outputs": [],
   "source": [
    "# let's look at the speakers column of the first row of the dh dataframe\n",
    "# use .iloc[] to select the row, and ['columnName'] to select the column\n"
   ]
  },
  {
   "cell_type": "markdown",
   "metadata": {},
   "source": [
    "If we were to explode our dataset, this first row would explode into three rows which will be all identical expect for the speaker. There will be one row for every speaker. : )"
   ]
  },
  {
   "cell_type": "code",
   "execution_count": null,
   "metadata": {},
   "outputs": [],
   "source": [
    "# let's try it, just to see...\n",
    "# dear Pandas, explode the dh dataset, using the speakers-column, \n",
    "# and only show us the first 3 rows of the result of this explosion\n",
    "# use .explode() to do this\n"
   ]
  },
  {
   "cell_type": "code",
   "execution_count": null,
   "metadata": {},
   "outputs": [],
   "source": [
    "# let's explode some data, but this time save it \n",
    "# in a new dataframe called dhS (short for dataharvest Speakers)\n"
   ]
  },
  {
   "cell_type": "code",
   "execution_count": null,
   "metadata": {},
   "outputs": [],
   "source": [
    "# get no rows + columns of dh\n"
   ]
  },
  {
   "cell_type": "code",
   "execution_count": null,
   "metadata": {},
   "outputs": [],
   "source": [
    "# get no rows + columns of dhS\n"
   ]
  },
  {
   "cell_type": "code",
   "execution_count": null,
   "metadata": {},
   "outputs": [],
   "source": [
    "# let's \n",
    "# group on the speakers column\n",
    "# not creating an index out of said speakers column\n",
    "# sort values\n",
    "# drop all empty rows\n",
    "# after grouping count the number of workshops\n",
    "# sort values based on workshop-column \n",
    "# sort from high to low (descending)\n",
    "# filter dataframe, only keep speakers + workshop columns\n",
    "# only show me the top 10"
   ]
  },
  {
   "cell_type": "code",
   "execution_count": null,
   "metadata": {},
   "outputs": [],
   "source": [
    "# now, let's do all that once more but then also save the data. \n"
   ]
  },
  {
   "cell_type": "code",
   "execution_count": null,
   "metadata": {},
   "outputs": [],
   "source": []
  }
 ],
 "metadata": {
  "kernelspec": {
   "display_name": "Python 3",
   "language": "python",
   "name": "python3"
  },
  "language_info": {
   "codemirror_mode": {
    "name": "ipython",
    "version": 3
   },
   "file_extension": ".py",
   "mimetype": "text/x-python",
   "name": "python",
   "nbconvert_exporter": "python",
   "pygments_lexer": "ipython3",
   "version": "3.7.5"
  }
 },
 "nbformat": 4,
 "nbformat_minor": 4
}
